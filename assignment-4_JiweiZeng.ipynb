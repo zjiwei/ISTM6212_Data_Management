{
 "cells": [
  {
   "cell_type": "markdown",
   "metadata": {},
   "source": [
    "# Exercise 04 - Due Saturday, November 18 at 12pm\n",
    "\n",
    "*Objectives*: Gain experience loading a CSV dataset into a star schema. Explore the data by writing and executing a number of SQL queries using common syntax and functions and describing your findings.\n",
    "\n",
    "*Grading criteria*: The tasks should all be completed, and questions should all be answered with SQL queries in the space provided, unless a text answer is requested. Results should be correct, according to the embedded tests. The notebook itself should be completely reproducible; from start to finish, another person should be able to use the same code to obtain the same results as yours.  Note that you will receive no more than partial credit if you do not add text/markdown cells explaining your thinking at each major step in each problem.\n",
    "\n",
    "** Add your markdown and code cells only in the designated areas after \"Answers:\". Do not remove or change any existing cells. **\n",
    "\n",
    "*Deadline*: Saturday, November 18, 12pm.\n",
    "\n",
    "## Setup - obtain data\n",
    "\n",
    "The US City Open Data Census has data on [Campaign Finance Contributions](http://us-city.census.okfn.org/dataset/campaign-finance).  Let's take a look at data from [Washington DC](http://opendata.dc.gov/datasets/campaign-financial-contributions).\n",
    "\n",
    "First we download the dataset:"
   ]
  },
  {
   "cell_type": "code",
   "execution_count": 1,
   "metadata": {},
   "outputs": [
    {
     "name": "stdout",
     "output_type": "stream",
     "text": [
      "--2017-11-17 16:27:11--  https://opendata.arcgis.com/datasets/6443e0b5b2454e86a3208b8a38fdee84_34.csv\n",
      "Resolving opendata.arcgis.com (opendata.arcgis.com)... 52.22.192.109, 34.235.70.5\n",
      "Connecting to opendata.arcgis.com (opendata.arcgis.com)|52.22.192.109|:443... connected.\n",
      "HTTP request sent, awaiting response... 200 OK\n",
      "Length: unspecified [text/csv]\n",
      "Saving to: ‘dc_contributions.csv’\n",
      "\n",
      "dc_contributions.cs     [   <=>              ]  53.31M   109MB/s    in 0.5s    \n",
      "\n",
      "2017-11-17 16:27:12 (109 MB/s) - ‘dc_contributions.csv’ saved [55903436]\n",
      "\n"
     ]
    }
   ],
   "source": [
    "!wget -O dc_contributions.csv https://opendata.arcgis.com/datasets/6443e0b5b2454e86a3208b8a38fdee84_34.csv"
   ]
  },
  {
   "cell_type": "markdown",
   "metadata": {},
   "source": [
    "## Part 1 - examine the data (30 points)\n",
    "\n",
    "**Question 1** :\n",
    "Use `csvstat` and other tools as you see fit and observe its contents. Describe what you see:  How many records does  this dataset have? What do all the columns mean?  Are there null values?  Which columns interest you the most? Which columns present facts and which columns present dimensions?\n",
    "\n",
    "Insert a combination of code and text/markdown cells here to review the data and describe what you find.\n",
    "\n",
    "Hint: to get help on command line tools, try the `--help` option. For example: `csvstat --help`.\n",
    "\n",
    "Hint: due to the size of the dataset, if you use `csvstat`, you can apply it on sample or the first 10000 lines.\n",
    "\n",
    "**Answer:**"
   ]
  },
  {
   "cell_type": "code",
   "execution_count": 2,
   "metadata": {
    "scrolled": true
   },
   "outputs": [
    {
     "name": "stdout",
     "output_type": "stream",
     "text": [
      "214982 dc_contributions.csv\r\n"
     ]
    }
   ],
   "source": [
    "!wc -l dc_contributions.csv"
   ]
  },
  {
   "cell_type": "markdown",
   "metadata": {},
   "source": [
    "The result indicates there are 214982 records in the dataset"
   ]
  },
  {
   "cell_type": "code",
   "execution_count": 3,
   "metadata": {},
   "outputs": [
    {
     "name": "stdout",
     "output_type": "stream",
     "text": [
      "  1: ﻿OBJECTID\r\n",
      "  2: COMMITTEENAME\r\n",
      "  3: CANDIDATENAME\r\n",
      "  4: ELECTIONYEAR\r\n",
      "  5: CONTRIBUTORNAME\r\n",
      "  6: ADDRESS\r\n",
      "  7: CONTRIBUTORTYPE\r\n",
      "  8: CONTRIBUTIONTYPE\r\n",
      "  9: EMPLOYER\r\n",
      " 10: EMPLOYERADDRESS\r\n",
      " 11: AMOUNT\r\n",
      " 12: DATEOFRECEIPT\r\n",
      " 13: ADDRESS_ID\r\n",
      " 14: XCOORD\r\n",
      " 15: YCOORD\r\n",
      " 16: LATITUDE\r\n",
      " 17: LONGITUDE\r\n",
      " 18: FULLADDRESS\r\n",
      " 19: GIS_LAST_MOD_DTTM\r\n"
     ]
    }
   ],
   "source": [
    "!csvcut -n dc_contributions.csv"
   ]
  },
  {
   "cell_type": "markdown",
   "metadata": {},
   "source": [
    "1. The ID of observation.\n",
    "2. The names of committees.\n",
    "3. The names of candidates in election.\n",
    "4. The year when candidates participate in the election.\n",
    "5. The names of contributors.\n",
    "6. The address of contributors.\n",
    "7. The types of contributors.\n",
    "8. The types of contributions.\n",
    "9. The employers of contributors.\n",
    "10. The address of employers of contributors.\n",
    "11. The amount of contribution.\n",
    "12. The date of receipt of contribution.\n",
    "13. ID of address.\n",
    "14. X coordination.\n",
    "15. Y coordination.\n",
    "16. Latitude of address of employer.\n",
    "17. Longitude of address of employer.\n",
    "18. Full address of contributors.\n",
    "19. The date and time of last modification in GIS."
   ]
  },
  {
   "cell_type": "code",
   "execution_count": 4,
   "metadata": {},
   "outputs": [
    {
     "name": "stdout",
     "output_type": "stream",
     "text": [
      "  1. ﻿OBJECTID\n",
      "\t<class 'int'>\n",
      "\tNulls: False\n",
      "\tMin: 1001\n",
      "\tMax: 10999\n",
      "\tSum: 59994000\n",
      "\tMean: 6000.0\n",
      "\tMedian: 6000\n",
      "\tStandard Deviation: 2886.4626563783336\n",
      "\tUnique values: 9999\n",
      "  2. COMMITTEENAME\n",
      "\t<class 'str'>\n",
      "\tNulls: False\n",
      "\tUnique values: 329\n",
      "\t5 most frequent values:\n",
      "\t\tFenty 2010:\t1101\n",
      "\t\tRe-Elect Jim Graham  (2006):\t438\n",
      "\t\tRe-Elect Kwame R. Brown:\t390\n",
      "\t\tWashington DC Association of Realtors PAC:\t356\n",
      "\t\tMuriel Bowser for Mayor:\t351\n",
      "\tMax length: 82\n",
      "  3. CANDIDATENAME\n",
      "\t<class 'str'>\n",
      "\tNulls: True\n",
      "\tUnique values: 171\n",
      "\t5 most frequent values:\n",
      "\t\tAdrian Fenty:\t1149\n",
      "\t\tMuriel Bowser:\t789\n",
      "\t\tKwame Brown:\t646\n",
      "\t\tJim Graham:\t450\n",
      "\t\tVincent Gray:\t361\n",
      "\tMax length: 24\n",
      "  4. ELECTIONYEAR\n",
      "\t<class 'int'>\n",
      "\tNulls: False\n",
      "\tMin: 2002\n",
      "\tMax: 2018\n",
      "\tSum: 20093811\n",
      "\tMean: 2009.5820582058207\n",
      "\tMedian: 2010\n",
      "\tStandard Deviation: 4.314684666877673\n",
      "\tUnique values: 13\n",
      "\t5 most frequent values:\n",
      "\t\t2010:\t1670\n",
      "\t\t2014:\t1488\n",
      "\t\t2006:\t1410\n",
      "\t\t2002:\t1075\n",
      "\t\t2012:\t1017\n",
      "  5. CONTRIBUTORNAME\n",
      "\t<class 'str'>\n",
      "\tNulls: True\n",
      "\tUnique values: 8168\n",
      "\t5 most frequent values:\n",
      "\t\tAtlantic Northstar, LLC:\t61\n",
      "\t\tROC Action:\t23\n",
      "\t\tJohn Cheeks:\t17\n",
      "\t\tLeora Hochstein:\t12\n",
      "\t\tMario Acosta-Velez:\t12\n",
      "\tMax length: 73\n",
      "  6. ADDRESS\n",
      "\t<class 'str'>\n",
      "\tNulls: True\n",
      "\tUnique values: 8130\n",
      "\t5 most frequent values:\n",
      "\t\t1300 I St NW, Washington, DC 200053314:\t117\n",
      "\t\tP.O. Box 277, Frederiksted, VI 00841:\t60\n",
      "\t\tRequested, Washington, DC 20002:\t35\n",
      "\t\t1320 N Courthouse Rd, Arlington, VA 222012501:\t34\n",
      "\t\t1100 Florida Ave, NW 2nd Floor, Washington, DC 20009:\t25\n",
      "\tMax length: 66\n",
      "  7. CONTRIBUTORTYPE\n",
      "\t<class 'str'>\n",
      "\tNulls: True\n",
      "\tUnique values: 14\n",
      "\t5 most frequent values:\n",
      "\t\tIndividual:\t7917\n",
      "\t\tCorporation:\t1852\n",
      "\t\tCandidate:\t85\n",
      "\t\tOrganization:\t40\n",
      "\t\tLimited Liability Company:\t29\n",
      "\tMax length: 36\n",
      "  8. CONTRIBUTIONTYPE\n",
      "\t<class 'str'>\n",
      "\tNulls: True\n",
      "\tUnique values: 7\n",
      "\t5 most frequent values:\n",
      "\t\tCheck:\t6096\n",
      "\t\tCredit Card:\t2303\n",
      "\t\tOther:\t946\n",
      "\t\tCash:\t279\n",
      "\t\tInKind:\t193\n",
      "\tMax length: 13\n",
      "  9. EMPLOYER\n",
      "\t<class 'str'>\n",
      "\tNulls: True\n",
      "\tUnique values: 2602\n",
      "\t5 most frequent values:\n",
      "\t\tRequested but not obtained:\t291\n",
      "\t\trequested:\t225\n",
      "\t\tRetired:\t223\n",
      "\t\tVerizon Corp Rsrcs Group LLC:\t183\n",
      "\t\tSelf:\t182\n",
      "\tMax length: 53\n",
      " 10. EMPLOYERADDRESS\n",
      "\t<class 'str'>\n",
      "\tNulls: True\n",
      "\tUnique values: 1127\n",
      "\t5 most frequent values:\n",
      "\t\tWashington, DC:\t2573\n",
      "\t\t1300 I St NW, Washington, DC 200053314:\t101\n",
      "\t\tWashington, DC 20016:\t54\n",
      "\t\tWashington, DC 20007:\t45\n",
      "\t\t1320 N Courthouse Rd, Arlington, VA 222012501:\t42\n",
      "\tMax length: 67\n",
      " 11. AMOUNT\n",
      "\t<class 'float'>\n",
      "\tNulls: True\n",
      "\tMin: -1250.0\n",
      "\tMax: 122751.27\n",
      "\tSum: 4574303.539999999\n",
      "\tMean: 457.70497698619164\n",
      "\tMedian: 108.34\n",
      "\tStandard Deviation: 2257.433412876051\n",
      "\tUnique values: 410\n",
      "\t5 most frequent values:\n",
      "\t\t100.0:\t1750\n",
      "\t\t500.0:\t1699\n",
      "\t\t50.0:\t1247\n",
      "\t\t250.0:\t856\n",
      "\t\t25.0:\t693\n",
      " 12. DATEOFRECEIPT\n",
      "\t<class 'datetime.date'>\n",
      "\tNulls: False\n",
      "\tMin: 2003-03-11\n",
      "\tMax: 2017-10-06\n",
      "\tUnique values: 1875\n",
      "\t5 most frequent values:\n",
      "\t\t2014-03-10:\t216\n",
      "\t\t2007-01-10:\t145\n",
      "\t\t2011-10-06:\t144\n",
      "\t\t2010-01-31:\t119\n",
      "\t\t2009-01-22:\t114\n",
      " 13. ADDRESS_ID\n",
      "\t<class 'int'>\n",
      "\tNulls: True\n",
      "\tMin: 105\n",
      "\tMax: 315788\n",
      "\tSum: 1283918333\n",
      "\tMean: 207787.39812267356\n",
      "\tMedian: 240649\n",
      "\tStandard Deviation: 88803.44023078887\n",
      "\tUnique values: 3555\n",
      "\t5 most frequent values:\n",
      "\t\t240649:\t128\n",
      "\t\t243303:\t35\n",
      "\t\t224793:\t32\n",
      "\t\t238971:\t25\n",
      "\t\t27323:\t23\n",
      " 14. XCOORD\n",
      "\t<class 'float'>\n",
      "\tNulls: True\n",
      "\tMin: 390132.6\n",
      "\tMax: 407583.72\n",
      "\tSum: 2455306295.409991\n",
      "\tMean: 397363.0515309906\n",
      "\tMedian: 397132.77\n",
      "\tStandard Deviation: 3020.2021541798063\n",
      "\tUnique values: 3545\n",
      "\t5 most frequent values:\n",
      "\t\t397367.56:\t128\n",
      "\t\t396475.11:\t35\n",
      "\t\t392805.34:\t32\n",
      "\t\t397625.58:\t25\n",
      "\t\t396134.28:\t23\n",
      " 15. YCOORD\n",
      "\t<class 'float'>\n",
      "\tNulls: True\n",
      "\tMin: 128061.78\n",
      "\tMax: 147409.98\n",
      "\tSum: 858746214.7799966\n",
      "\tMean: 138978.18656416843\n",
      "\tMedian: 138731.75\n",
      "\tStandard Deviation: 3523.8405205152712\n",
      "\tUnique values: 3545\n",
      "\t5 most frequent values:\n",
      "\t\t137015.98:\t128\n",
      "\t\t137358.15:\t35\n",
      "\t\t140330.13:\t32\n",
      "\t\t139195.04:\t25\n",
      "\t\t137573.55:\t23\n",
      " 16. LATITUDE\n",
      "\t<class 'float'>\n",
      "\tNulls: True\n",
      "\tMin: 38.8203334487166\n",
      "\tMax: 38.9946222427649\n",
      "\tSum: 240478.4249799953\n",
      "\tMean: 38.91866402006721\n",
      "\tMedian: 38.9164525767798\n",
      "\tStandard Deviation: 0.03174055616613661\n",
      "\tUnique values: 3555\n",
      "\t5 most frequent values:\n",
      "\t\t38.9009930899946:\t128\n",
      "\t\t38.9040723526341:\t35\n",
      "\t\t38.9308225407374:\t32\n",
      "\t\t38.9206235390876:\t25\n",
      "\t\t38.9060113181975:\t23\n",
      " 17. LONGITUDE\n",
      "\t<class 'float'>\n",
      "\tNulls: True\n",
      "\tMin: -77.1138096979972\n",
      "\tMax: -76.9125809696737\n",
      "\tSum: -475970.9324617742\n",
      "\tMean: -77.0304147049319\n",
      "\tMedian: -77.0330685993941\n",
      "\tStandard Deviation: 0.034830085675466714\n",
      "\tUnique values: 3555\n",
      "\t5 most frequent values:\n",
      "\t\t-77.0303476990004:\t128\n",
      "\t\t-77.0406379329335:\t35\n",
      "\t\t-77.0829772925435:\t32\n",
      "\t\t-77.0273806880861:\t25\n",
      "\t\t-76.9986515038535:\t23\n",
      " 18. FULLADDRESS\n",
      "\t<class 'str'>\n",
      "\tNulls: True\n",
      "\tUnique values: 3559\n",
      "\t5 most frequent values:\n",
      "\t\t1300 I STREET NW:\t128\n",
      "\t\t1100 CONNECTICUT AVENUE NW:\t35\n",
      "\t\t4201 CATHEDRAL AVENUE NW:\t32\n",
      "\t\t1100 FLORIDA AVENUE NW:\t25\n",
      "\t\t405 6TH STREET SE:\t23\n",
      "\tMax length: 53\n",
      " 19. GIS_LAST_MOD_DTTM\n",
      "\t<class 'datetime.datetime'>\n",
      "\tNulls: False\n",
      "\tValues: 2017-11-13 06:18:09+00:00\n",
      "\n",
      "Row count: 9999\n"
     ]
    }
   ],
   "source": [
    "!head -n 10000 dc_contributions.csv | csvstat"
   ]
  },
  {
   "cell_type": "markdown",
   "metadata": {},
   "source": [
    "There are null values in Candidatename, Contributorname, Address, Contributortype, Contributiontype, Employer, Employeraddress, Amount, Address_ID, Xcoord, Ycoord, Latitude, Longitude, Fulladdress.\n",
    "\n",
    "I am interested in names of candidates because it can tell me which candidate is more likely to get support.\n",
    "\n",
    "Dimensions:\n",
    "OBJECTID, COMMITTEENAME, CANDIDATENAME, ELECTIONYEAR, CONTRIBUTORNAME, ADDRESS, CONTRIBUTORTYPE, CONTRIBUTIONTYPE, EMPLOYER, EMPLOYERADDRESS, DATEOFRECEIPT, ADDRESS_ID, XCOORD, YCOORD, LATITUDE, LONGITUDE, FULLADDRESS, GIS_LAST_MOD_DTTM\n",
    "\n",
    "Facts:\n",
    "AMOUNT"
   ]
  },
  {
   "cell_type": "markdown",
   "metadata": {},
   "source": [
    "## Part 2 - create a database and load the data (40 points)\n",
    "Create and connect to a new database, create database tables in it based on the following provided star schema, and load this dataset into it. \n",
    "\n",
    "* `campaign` (`campaign_key`, `committee_name`, `candidate_name`, `election_year`)\n",
    "* `contributor` (`contributor_key`, `name`, `type`, `employer`)\n",
    "* `contribution_facts` (`campaign_key`, `contributor_key`, `amount`)"
   ]
  },
  {
   "cell_type": "code",
   "execution_count": 1,
   "metadata": {
    "collapsed": true
   },
   "outputs": [],
   "source": [
    "%load_ext sql"
   ]
  },
  {
   "cell_type": "code",
   "execution_count": 2,
   "metadata": {
    "collapsed": true
   },
   "outputs": [],
   "source": [
    "!dropdb --if-exists -U student assignment4"
   ]
  },
  {
   "cell_type": "code",
   "execution_count": 3,
   "metadata": {
    "collapsed": true
   },
   "outputs": [],
   "source": [
    "!createdb -U student assignment4"
   ]
  },
  {
   "cell_type": "code",
   "execution_count": 2,
   "metadata": {},
   "outputs": [
    {
     "data": {
      "text/plain": [
       "'Connected: student@assignment4'"
      ]
     },
     "execution_count": 2,
     "metadata": {},
     "output_type": "execute_result"
    }
   ],
   "source": [
    "%sql postgresql://student@/assignment4"
   ]
  },
  {
   "cell_type": "markdown",
   "metadata": {},
   "source": [
    "First, let's create the table `contribution_facts`:"
   ]
  },
  {
   "cell_type": "code",
   "execution_count": 5,
   "metadata": {},
   "outputs": [
    {
     "name": "stdout",
     "output_type": "stream",
     "text": [
      "Done.\n",
      "Done.\n"
     ]
    },
    {
     "data": {
      "text/plain": [
       "[]"
      ]
     },
     "execution_count": 5,
     "metadata": {},
     "output_type": "execute_result"
    }
   ],
   "source": [
    "%%sql\n",
    "DROP TABLE IF EXISTS contribution_facts;\n",
    "\n",
    "CREATE TABLE contribution_facts (\n",
    "    id INTEGER,\n",
    "    committee_name VARCHAR(500),\n",
    "    candidate_name VARCHAR(50),\n",
    "    election_year INTEGER,\n",
    "    contributor_name VARCHAR(500),\n",
    "    contributor_address VARCHAR(500),\n",
    "    contributor_type VARCHAR(100),\n",
    "    contribution_type VARCHAR(100),\n",
    "    employer VARCHAR(500),\n",
    "    employer_address VARCHAR(500),\n",
    "    amount NUMERIC(20, 2),\n",
    "    date_of_receipt DATE,\n",
    "    address_id INTEGER,\n",
    "    address_x NUMERIC(20, 2),\n",
    "    address_y NUMERIC(20, 2),\n",
    "    address_latitude NUMERIC,\n",
    "    address_longitude NUMERIC,\n",
    "    address_full VARCHAR(500),\n",
    "    gis_last_mod TIMESTAMPTZ NOT NULL\n",
    ")"
   ]
  },
  {
   "cell_type": "markdown",
   "metadata": {},
   "source": [
    "** Question 2 (10 points)** :\n",
    "Load the dataset into the table `contribution_facts` and verify the loaded records.\n",
    "\n",
    "Hint: If you get some errors, please examine the error messages carefully and fix the problems, including any problems in the above CREATE TABLE statement.\n",
    "\n",
    "** Answer: **"
   ]
  },
  {
   "cell_type": "code",
   "execution_count": 6,
   "metadata": {},
   "outputs": [
    {
     "name": "stdout",
     "output_type": "stream",
     "text": [
      "214975 rows affected.\n"
     ]
    },
    {
     "data": {
      "text/plain": [
       "[]"
      ]
     },
     "execution_count": 6,
     "metadata": {},
     "output_type": "execute_result"
    }
   ],
   "source": [
    "%%sql\n",
    "COPY contribution_facts FROM '/home/ubuntu/dc_contributions.csv'\n",
    "CSV\n",
    "HEADER;"
   ]
  },
  {
   "cell_type": "markdown",
   "metadata": {},
   "source": [
    "I just use the copy function to load the data into database. And there are errors because there are null values in some columns which are defined with constraint of no null values. So I change the CREATE TABLE statement."
   ]
  },
  {
   "cell_type": "markdown",
   "metadata": {},
   "source": [
    "** End of answer to Question 2 **"
   ]
  },
  {
   "cell_type": "markdown",
   "metadata": {},
   "source": [
    "Next, we are going to create the dimension table `contributor`. "
   ]
  },
  {
   "cell_type": "markdown",
   "metadata": {},
   "source": [
    "First let's work on the SELECT statement that extracts contributor-related dimension details like `contributor_name`, `contributor_type` and `employer`."
   ]
  },
  {
   "cell_type": "code",
   "execution_count": 7,
   "metadata": {},
   "outputs": [
    {
     "name": "stdout",
     "output_type": "stream",
     "text": [
      "10 rows affected.\n"
     ]
    },
    {
     "data": {
      "text/html": [
       "<table>\n",
       "    <tr>\n",
       "        <th>contributor_name</th>\n",
       "        <th>contributor_type</th>\n",
       "        <th>employer</th>\n",
       "    </tr>\n",
       "    <tr>\n",
       "        <td>None</td>\n",
       "        <td>None</td>\n",
       "        <td>None</td>\n",
       "    </tr>\n",
       "    <tr>\n",
       "        <td>Victor Ayala </td>\n",
       "        <td>Individual</td>\n",
       "        <td>DC Taxicab Commission</td>\n",
       "    </tr>\n",
       "    <tr>\n",
       "        <td>Harry Harrison</td>\n",
       "        <td>Individual</td>\n",
       "        <td>Aronson LLC</td>\n",
       "    </tr>\n",
       "    <tr>\n",
       "        <td>DC Development  &amp; Consulting LLC</td>\n",
       "        <td>Corporation</td>\n",
       "        <td>None</td>\n",
       "    </tr>\n",
       "    <tr>\n",
       "        <td>Virginia Contractors Supply Inc</td>\n",
       "        <td>Corporation</td>\n",
       "        <td>None</td>\n",
       "    </tr>\n",
       "    <tr>\n",
       "        <td>Euclid Mortgage Aservices</td>\n",
       "        <td>Corporation</td>\n",
       "        <td>None</td>\n",
       "    </tr>\n",
       "    <tr>\n",
       "        <td>Kool Smiles </td>\n",
       "        <td>Corporation</td>\n",
       "        <td>None</td>\n",
       "    </tr>\n",
       "    <tr>\n",
       "        <td>Summer Smith</td>\n",
       "        <td>Individual</td>\n",
       "        <td>Not reported</td>\n",
       "    </tr>\n",
       "    <tr>\n",
       "        <td>Shelly Waite</td>\n",
       "        <td>Individual</td>\n",
       "        <td>Waite Secured Line Technology Solutions LLC</td>\n",
       "    </tr>\n",
       "    <tr>\n",
       "        <td>Clark Ray</td>\n",
       "        <td>Individual</td>\n",
       "        <td>DC Governmnet</td>\n",
       "    </tr>\n",
       "</table>"
      ],
      "text/plain": [
       "[(None, None, None),\n",
       " ('Victor Ayala ', 'Individual', 'DC Taxicab Commission'),\n",
       " ('Harry Harrison', 'Individual', 'Aronson LLC'),\n",
       " ('DC Development  & Consulting LLC', 'Corporation', None),\n",
       " ('Virginia Contractors Supply Inc', 'Corporation', None),\n",
       " ('Euclid Mortgage Aservices', 'Corporation', None),\n",
       " ('Kool Smiles ', 'Corporation', None),\n",
       " ('Summer Smith', 'Individual', 'Not reported'),\n",
       " ('Shelly Waite', 'Individual', 'Waite Secured Line Technology Solutions LLC'),\n",
       " ('Clark Ray', 'Individual', 'DC Governmnet')]"
      ]
     },
     "execution_count": 7,
     "metadata": {},
     "output_type": "execute_result"
    }
   ],
   "source": [
    "%%sql\n",
    "SELECT DISTINCT contributor_name, contributor_type, employer\n",
    "FROM contribution_facts\n",
    "LIMIT 10;"
   ]
  },
  {
   "cell_type": "markdown",
   "metadata": {},
   "source": [
    "Please note NULLs in the query result. Now we can create the dimension table `contributor` to house the dimensions `contributor_name`, `contributor_type` and `employer`."
   ]
  },
  {
   "cell_type": "code",
   "execution_count": 8,
   "metadata": {},
   "outputs": [
    {
     "name": "stdout",
     "output_type": "stream",
     "text": [
      "Done.\n",
      "Done.\n"
     ]
    },
    {
     "data": {
      "text/plain": [
       "[]"
      ]
     },
     "execution_count": 8,
     "metadata": {},
     "output_type": "execute_result"
    }
   ],
   "source": [
    "%%sql\n",
    "DROP TABLE IF EXISTS contributor;\n",
    "\n",
    "CREATE TABLE contributor (\n",
    "    contributor_key SERIAL PRIMARY KEY,\n",
    "    name VARCHAR(500),\n",
    "    type VARCHAR(100),\n",
    "    employer VARCHAR(500)\n",
    ");"
   ]
  },
  {
   "cell_type": "markdown",
   "metadata": {},
   "source": [
    "Populate the dimension table with unique values of these three dimensions from the dataset."
   ]
  },
  {
   "cell_type": "code",
   "execution_count": 9,
   "metadata": {},
   "outputs": [
    {
     "name": "stdout",
     "output_type": "stream",
     "text": [
      "144249 rows affected.\n"
     ]
    },
    {
     "data": {
      "text/plain": [
       "[]"
      ]
     },
     "execution_count": 9,
     "metadata": {},
     "output_type": "execute_result"
    }
   ],
   "source": [
    "%%sql\n",
    "INSERT INTO contributor (name, type, employer)\n",
    "SELECT DISTINCT contributor_name, contributor_type, employer\n",
    "FROM contribution_facts;"
   ]
  },
  {
   "cell_type": "markdown",
   "metadata": {},
   "source": [
    "Next, we add a foreign key column to the fact table that references `contributor` dimension table."
   ]
  },
  {
   "cell_type": "code",
   "execution_count": 10,
   "metadata": {},
   "outputs": [
    {
     "name": "stdout",
     "output_type": "stream",
     "text": [
      "Done.\n"
     ]
    },
    {
     "data": {
      "text/plain": [
       "[]"
      ]
     },
     "execution_count": 10,
     "metadata": {},
     "output_type": "execute_result"
    }
   ],
   "source": [
    "%%sql\n",
    "ALTER TABLE contribution_facts\n",
    "ADD COLUMN contributor_key INTEGER,\n",
    "ADD CONSTRAINT fk_contributor_key\n",
    "    FOREIGN KEY (contributor_key)\n",
    "    REFERENCES contributor (contributor_key);"
   ]
  },
  {
   "cell_type": "code",
   "execution_count": 11,
   "metadata": {},
   "outputs": [
    {
     "name": "stdout",
     "output_type": "stream",
     "text": [
      "10 rows affected.\n"
     ]
    },
    {
     "data": {
      "text/html": [
       "<table>\n",
       "    <tr>\n",
       "        <th>contributor_key</th>\n",
       "    </tr>\n",
       "    <tr>\n",
       "        <td>None</td>\n",
       "    </tr>\n",
       "    <tr>\n",
       "        <td>None</td>\n",
       "    </tr>\n",
       "    <tr>\n",
       "        <td>None</td>\n",
       "    </tr>\n",
       "    <tr>\n",
       "        <td>None</td>\n",
       "    </tr>\n",
       "    <tr>\n",
       "        <td>None</td>\n",
       "    </tr>\n",
       "    <tr>\n",
       "        <td>None</td>\n",
       "    </tr>\n",
       "    <tr>\n",
       "        <td>None</td>\n",
       "    </tr>\n",
       "    <tr>\n",
       "        <td>None</td>\n",
       "    </tr>\n",
       "    <tr>\n",
       "        <td>None</td>\n",
       "    </tr>\n",
       "    <tr>\n",
       "        <td>None</td>\n",
       "    </tr>\n",
       "</table>"
      ],
      "text/plain": [
       "[(None,),\n",
       " (None,),\n",
       " (None,),\n",
       " (None,),\n",
       " (None,),\n",
       " (None,),\n",
       " (None,),\n",
       " (None,),\n",
       " (None,),\n",
       " (None,)]"
      ]
     },
     "execution_count": 11,
     "metadata": {},
     "output_type": "execute_result"
    }
   ],
   "source": [
    "%%sql\n",
    "SELECT contributor_key FROM contribution_facts\n",
    "LIMIT 10;"
   ]
  },
  {
   "cell_type": "markdown",
   "metadata": {},
   "source": [
    "As we can see, the values for the `contributor_key` are NULLs initially. We will populate `contributor_key` with correct values next."
   ]
  },
  {
   "cell_type": "markdown",
   "metadata": {},
   "source": [
    "First let's create an index on all columns in `contributor` to improve the performance of queries."
   ]
  },
  {
   "cell_type": "code",
   "execution_count": 12,
   "metadata": {},
   "outputs": [
    {
     "name": "stdout",
     "output_type": "stream",
     "text": [
      "Done.\n",
      "Done.\n"
     ]
    },
    {
     "data": {
      "text/plain": [
       "[]"
      ]
     },
     "execution_count": 12,
     "metadata": {},
     "output_type": "execute_result"
    }
   ],
   "source": [
    "%%sql\n",
    "DROP INDEX IF EXISTS idx_contributor;\n",
    "\n",
    "CREATE INDEX idx_contributor ON contributor (name, type, employer);"
   ]
  },
  {
   "cell_type": "code",
   "execution_count": 13,
   "metadata": {},
   "outputs": [
    {
     "name": "stdout",
     "output_type": "stream",
     "text": [
      "123395 rows affected.\n"
     ]
    },
    {
     "data": {
      "text/plain": [
       "[]"
      ]
     },
     "execution_count": 13,
     "metadata": {},
     "output_type": "execute_result"
    }
   ],
   "source": [
    "%%sql\n",
    "UPDATE contribution_facts\n",
    "SET contributor_key = contributor.contributor_key\n",
    "FROM contributor\n",
    "WHERE contribution_facts.contributor_name = contributor.name \n",
    "    AND contribution_facts.contributor_type = contributor.type \n",
    "    AND contribution_facts.employer = contributor.employer"
   ]
  },
  {
   "cell_type": "markdown",
   "metadata": {},
   "source": [
    "** Question 3 (10 points) **:\n",
    "Have all rows in `contribution_facts` been updated by the above UPDATE statement? If not, explain why some rows weren't updated. Modify the UPDATE statement to fix it.\n",
    "\n",
    "** Answer: **"
   ]
  },
  {
   "cell_type": "code",
   "execution_count": 14,
   "metadata": {},
   "outputs": [
    {
     "name": "stdout",
     "output_type": "stream",
     "text": [
      "10 rows affected.\n"
     ]
    },
    {
     "data": {
      "text/html": [
       "<table>\n",
       "    <tr>\n",
       "        <th>contributor_key</th>\n",
       "    </tr>\n",
       "    <tr>\n",
       "        <td>None</td>\n",
       "    </tr>\n",
       "    <tr>\n",
       "        <td>2848</td>\n",
       "    </tr>\n",
       "    <tr>\n",
       "        <td>119488</td>\n",
       "    </tr>\n",
       "    <tr>\n",
       "        <td>2026</td>\n",
       "    </tr>\n",
       "    <tr>\n",
       "        <td>103294</td>\n",
       "    </tr>\n",
       "    <tr>\n",
       "        <td>46770</td>\n",
       "    </tr>\n",
       "    <tr>\n",
       "        <td>55290</td>\n",
       "    </tr>\n",
       "    <tr>\n",
       "        <td>59315</td>\n",
       "    </tr>\n",
       "    <tr>\n",
       "        <td>62012</td>\n",
       "    </tr>\n",
       "    <tr>\n",
       "        <td>103179</td>\n",
       "    </tr>\n",
       "</table>"
      ],
      "text/plain": [
       "[(None,),\n",
       " (2848,),\n",
       " (119488,),\n",
       " (2026,),\n",
       " (103294,),\n",
       " (46770,),\n",
       " (55290,),\n",
       " (59315,),\n",
       " (62012,),\n",
       " (103179,)]"
      ]
     },
     "execution_count": 14,
     "metadata": {},
     "output_type": "execute_result"
    }
   ],
   "source": [
    "%%sql\n",
    "SELECT DISTINCT contributor_key FROM contribution_facts\n",
    "LIMIT 10;"
   ]
  },
  {
   "cell_type": "markdown",
   "metadata": {},
   "source": [
    "According to the result above, we can know that not all of rows have been updated. It is due to the null values in the data."
   ]
  },
  {
   "cell_type": "code",
   "execution_count": 15,
   "metadata": {},
   "outputs": [
    {
     "name": "stdout",
     "output_type": "stream",
     "text": [
      "214975 rows affected.\n"
     ]
    },
    {
     "data": {
      "text/plain": [
       "[]"
      ]
     },
     "execution_count": 15,
     "metadata": {},
     "output_type": "execute_result"
    }
   ],
   "source": [
    "%%sql\n",
    "UPDATE contribution_facts\n",
    "SET contributor_key = contributor.contributor_key\n",
    "FROM contributor\n",
    "WHERE (case when contribution_facts.contributor_name IS NULL THEN 'missing' ELSE contribution_facts.contributor_name END) \n",
    "    = (case when contributor.name IS NULL THEN 'missing' ELSE contributor.name END) \n",
    "    AND (case when contribution_facts.contributor_type IS NULL THEN 'missing' ELSE contribution_facts.contributor_type END) \n",
    "    = (case when contributor.type IS NULL THEN 'missing' ELSE contributor.type END)\n",
    "    AND (case when contribution_facts.employer IS NULL THEN 'missing' ELSE contribution_facts.employer END) \n",
    "    = (case when contributor.employer IS NULL THEN 'missing' ELSE contributor.employer END);"
   ]
  },
  {
   "cell_type": "markdown",
   "metadata": {},
   "source": [
    "Because null values can not compared, I replace null values with text 'missing' which can be compared."
   ]
  },
  {
   "cell_type": "code",
   "execution_count": 16,
   "metadata": {},
   "outputs": [
    {
     "name": "stdout",
     "output_type": "stream",
     "text": [
      "0 rows affected.\n"
     ]
    },
    {
     "data": {
      "text/html": [
       "<table>\n",
       "    <tr>\n",
       "        <th>contributor_key</th>\n",
       "    </tr>\n",
       "</table>"
      ],
      "text/plain": [
       "[]"
      ]
     },
     "execution_count": 16,
     "metadata": {},
     "output_type": "execute_result"
    }
   ],
   "source": [
    "%%sql\n",
    "SELECT DISTINCT contributor_key FROM contribution_facts\n",
    "WHERE contributor_key is null\n",
    "LIMIT 10;"
   ]
  },
  {
   "cell_type": "markdown",
   "metadata": {},
   "source": [
    "** End of answer to Question 3 **"
   ]
  },
  {
   "cell_type": "markdown",
   "metadata": {},
   "source": [
    "** Question 4 (20 points) **:\n",
    "Now it is your turn to create and populate the dimension table `campaign`, add the campaign foreign key to the fact table and populate the foreign key values for all the facts.\n",
    "\n",
    "** Answer: **"
   ]
  },
  {
   "cell_type": "code",
   "execution_count": 17,
   "metadata": {},
   "outputs": [
    {
     "name": "stdout",
     "output_type": "stream",
     "text": [
      "Done.\n",
      "Done.\n"
     ]
    },
    {
     "data": {
      "text/plain": [
       "[]"
      ]
     },
     "execution_count": 17,
     "metadata": {},
     "output_type": "execute_result"
    }
   ],
   "source": [
    "%%sql\n",
    "DROP TABLE IF EXISTS campaign;\n",
    "\n",
    "CREATE TABLE campaign (\n",
    "    campaign_key SERIAL PRIMARY KEY,\n",
    "    committee_name VARCHAR(500),\n",
    "    candidate_name VARCHAR(50),\n",
    "    election_year INTEGER\n",
    ");"
   ]
  },
  {
   "cell_type": "code",
   "execution_count": 18,
   "metadata": {},
   "outputs": [
    {
     "name": "stdout",
     "output_type": "stream",
     "text": [
      "1238 rows affected.\n"
     ]
    },
    {
     "data": {
      "text/plain": [
       "[]"
      ]
     },
     "execution_count": 18,
     "metadata": {},
     "output_type": "execute_result"
    }
   ],
   "source": [
    "%%sql\n",
    "INSERT INTO campaign (committee_name, candidate_name, election_year)\n",
    "SELECT DISTINCT committee_name, candidate_name, election_year\n",
    "FROM contribution_facts;"
   ]
  },
  {
   "cell_type": "code",
   "execution_count": 19,
   "metadata": {},
   "outputs": [
    {
     "name": "stdout",
     "output_type": "stream",
     "text": [
      "Done.\n"
     ]
    },
    {
     "data": {
      "text/plain": [
       "[]"
      ]
     },
     "execution_count": 19,
     "metadata": {},
     "output_type": "execute_result"
    }
   ],
   "source": [
    "%%sql\n",
    "ALTER TABLE contribution_facts\n",
    "ADD COLUMN campaign_key INTEGER,\n",
    "ADD CONSTRAINT fk_campaignr_key\n",
    "    FOREIGN KEY (campaign_key)\n",
    "    REFERENCES campaign (campaign_key);"
   ]
  },
  {
   "cell_type": "code",
   "execution_count": 20,
   "metadata": {},
   "outputs": [
    {
     "name": "stdout",
     "output_type": "stream",
     "text": [
      "Done.\n",
      "Done.\n"
     ]
    },
    {
     "data": {
      "text/plain": [
       "[]"
      ]
     },
     "execution_count": 20,
     "metadata": {},
     "output_type": "execute_result"
    }
   ],
   "source": [
    "%%sql\n",
    "DROP INDEX IF EXISTS idx_campaign;\n",
    "\n",
    "CREATE INDEX idx_campaign ON campaign (committee_name, candidate_name, election_year);"
   ]
  },
  {
   "cell_type": "code",
   "execution_count": 21,
   "metadata": {},
   "outputs": [
    {
     "name": "stdout",
     "output_type": "stream",
     "text": [
      "214975 rows affected.\n"
     ]
    },
    {
     "data": {
      "text/plain": [
       "[]"
      ]
     },
     "execution_count": 21,
     "metadata": {},
     "output_type": "execute_result"
    }
   ],
   "source": [
    "%%sql\n",
    "UPDATE contribution_facts\n",
    "SET campaign_key = campaign.campaign_key\n",
    "FROM campaign\n",
    "WHERE (case when contribution_facts.committee_name IS NULL THEN 'missing' ELSE contribution_facts.committee_name END) \n",
    "    = (case when campaign.committee_name IS NULL THEN 'missing' ELSE campaign.committee_name END) \n",
    "    AND (case when contribution_facts.candidate_name IS NULL THEN 'missing' ELSE contribution_facts.candidate_name END) \n",
    "    = (case when campaign.candidate_name IS NULL THEN 'missing' ELSE campaign.candidate_name END)\n",
    "    AND (case when contribution_facts.election_year IS NULL THEN 0 ELSE contribution_facts.election_year END) \n",
    "    = (case when campaign.election_year IS NULL THEN 0 ELSE campaign.election_year END);"
   ]
  },
  {
   "cell_type": "code",
   "execution_count": 22,
   "metadata": {},
   "outputs": [
    {
     "name": "stdout",
     "output_type": "stream",
     "text": [
      "0 rows affected.\n"
     ]
    },
    {
     "data": {
      "text/html": [
       "<table>\n",
       "    <tr>\n",
       "        <th>campaign_key</th>\n",
       "    </tr>\n",
       "</table>"
      ],
      "text/plain": [
       "[]"
      ]
     },
     "execution_count": 22,
     "metadata": {},
     "output_type": "execute_result"
    }
   ],
   "source": [
    "%%sql\n",
    "SELECT DISTINCT campaign_key FROM campaign\n",
    "WHERE campaign_key is null\n",
    "LIMIT 10;"
   ]
  },
  {
   "cell_type": "markdown",
   "metadata": {},
   "source": [
    "As the process of creating table contributor, I also create table campaign."
   ]
  },
  {
   "cell_type": "markdown",
   "metadata": {},
   "source": [
    "** End of answer to Question 4 **"
   ]
  },
  {
   "cell_type": "markdown",
   "metadata": {},
   "source": [
    "We can now remove all columns in `contribution_facts` that are not facts nor foreign keys of dimension tables."
   ]
  },
  {
   "cell_type": "code",
   "execution_count": 23,
   "metadata": {},
   "outputs": [
    {
     "name": "stdout",
     "output_type": "stream",
     "text": [
      "Done.\n"
     ]
    },
    {
     "data": {
      "text/plain": [
       "[]"
      ]
     },
     "execution_count": 23,
     "metadata": {},
     "output_type": "execute_result"
    }
   ],
   "source": [
    "%%sql\n",
    "ALTER TABLE contribution_facts\n",
    "DROP COLUMN id,\n",
    "DROP COLUMN committee_name,\n",
    "DROP COLUMN candidate_name,\n",
    "DROP COLUMN election_year,\n",
    "DROP COLUMN contributor_name,\n",
    "DROP COLUMN contributor_address,\n",
    "DROP COLUMN contributor_type,\n",
    "DROP COLUMN contribution_type,\n",
    "DROP COLUMN employer,\n",
    "DROP COLUMN employer_address,\n",
    "DROP COLUMN address_id,\n",
    "DROP COLUMN address_x,\n",
    "DROP COLUMN address_y,\n",
    "DROP COLUMN address_latitude,\n",
    "DROP COLUMN address_longitude,\n",
    "DROP COLUMN address_full,\n",
    "DROP COLUMN gis_last_mod;"
   ]
  },
  {
   "cell_type": "code",
   "execution_count": 24,
   "metadata": {},
   "outputs": [
    {
     "name": "stdout",
     "output_type": "stream",
     "text": [
      "10 rows affected.\n"
     ]
    },
    {
     "data": {
      "text/html": [
       "<table>\n",
       "    <tr>\n",
       "        <th>amount</th>\n",
       "        <th>date_of_receipt</th>\n",
       "        <th>contributor_key</th>\n",
       "        <th>campaign_key</th>\n",
       "    </tr>\n",
       "    <tr>\n",
       "        <td>100.00</td>\n",
       "        <td>2008-02-20</td>\n",
       "        <td>33569</td>\n",
       "        <td>100</td>\n",
       "    </tr>\n",
       "    <tr>\n",
       "        <td>500.00</td>\n",
       "        <td>2008-02-20</td>\n",
       "        <td>33197</td>\n",
       "        <td>100</td>\n",
       "    </tr>\n",
       "    <tr>\n",
       "        <td>50.00</td>\n",
       "        <td>2009-01-22</td>\n",
       "        <td>56911</td>\n",
       "        <td>1140</td>\n",
       "    </tr>\n",
       "    <tr>\n",
       "        <td>100.00</td>\n",
       "        <td>2008-02-20</td>\n",
       "        <td>112083</td>\n",
       "        <td>100</td>\n",
       "    </tr>\n",
       "    <tr>\n",
       "        <td>50.00</td>\n",
       "        <td>2008-02-20</td>\n",
       "        <td>49876</td>\n",
       "        <td>100</td>\n",
       "    </tr>\n",
       "    <tr>\n",
       "        <td>100.00</td>\n",
       "        <td>2008-02-20</td>\n",
       "        <td>116465</td>\n",
       "        <td>100</td>\n",
       "    </tr>\n",
       "    <tr>\n",
       "        <td>250.00</td>\n",
       "        <td>2008-02-20</td>\n",
       "        <td>50507</td>\n",
       "        <td>100</td>\n",
       "    </tr>\n",
       "    <tr>\n",
       "        <td>300.00</td>\n",
       "        <td>2008-02-20</td>\n",
       "        <td>84210</td>\n",
       "        <td>100</td>\n",
       "    </tr>\n",
       "    <tr>\n",
       "        <td>200.00</td>\n",
       "        <td>2006-10-13</td>\n",
       "        <td>38831</td>\n",
       "        <td>1188</td>\n",
       "    </tr>\n",
       "    <tr>\n",
       "        <td>250.00</td>\n",
       "        <td>2014-05-05</td>\n",
       "        <td>107806</td>\n",
       "        <td>1166</td>\n",
       "    </tr>\n",
       "</table>"
      ],
      "text/plain": [
       "[(Decimal('100.00'), datetime.date(2008, 2, 20), 33569, 100),\n",
       " (Decimal('500.00'), datetime.date(2008, 2, 20), 33197, 100),\n",
       " (Decimal('50.00'), datetime.date(2009, 1, 22), 56911, 1140),\n",
       " (Decimal('100.00'), datetime.date(2008, 2, 20), 112083, 100),\n",
       " (Decimal('50.00'), datetime.date(2008, 2, 20), 49876, 100),\n",
       " (Decimal('100.00'), datetime.date(2008, 2, 20), 116465, 100),\n",
       " (Decimal('250.00'), datetime.date(2008, 2, 20), 50507, 100),\n",
       " (Decimal('300.00'), datetime.date(2008, 2, 20), 84210, 100),\n",
       " (Decimal('200.00'), datetime.date(2006, 10, 13), 38831, 1188),\n",
       " (Decimal('250.00'), datetime.date(2014, 5, 5), 107806, 1166)]"
      ]
     },
     "execution_count": 24,
     "metadata": {},
     "output_type": "execute_result"
    }
   ],
   "source": [
    "%%sql\n",
    "select * from contribution_facts limit 10;"
   ]
  },
  {
   "cell_type": "markdown",
   "metadata": {},
   "source": [
    "## Part 3 - explore your data (30 points)\n",
    "\n",
    "** Question 5 **:\n",
    "Now that the data is loaded, ask at least a couple of questions of it!  Choose and define a few lines of inquiry, execute queries for each, and describe what you find in your result sets.  \n",
    "\n",
    "If you find interesting patterns, adding plots to your exploration would be useful.\n",
    "\n",
    "Insert a combination of code and text/markdown cells here to explore your data.\n",
    "\n",
    "**Answer**:"
   ]
  },
  {
   "cell_type": "code",
   "execution_count": 28,
   "metadata": {},
   "outputs": [
    {
     "name": "stdout",
     "output_type": "stream",
     "text": [
      "10 rows affected.\n"
     ]
    },
    {
     "data": {
      "text/html": [
       "<table>\n",
       "    <tr>\n",
       "        <th>candidate_name</th>\n",
       "        <th>count</th>\n",
       "    </tr>\n",
       "    <tr>\n",
       "        <td>None</td>\n",
       "        <td>613</td>\n",
       "    </tr>\n",
       "    <tr>\n",
       "        <td>Michael Brown</td>\n",
       "        <td>11</td>\n",
       "    </tr>\n",
       "    <tr>\n",
       "        <td>Lankward Smith</td>\n",
       "        <td>10</td>\n",
       "    </tr>\n",
       "    <tr>\n",
       "        <td>Vincent Gray</td>\n",
       "        <td>9</td>\n",
       "    </tr>\n",
       "    <tr>\n",
       "        <td>Vincent Orange</td>\n",
       "        <td>9</td>\n",
       "    </tr>\n",
       "    <tr>\n",
       "        <td>Phil Mendelson</td>\n",
       "        <td>7</td>\n",
       "    </tr>\n",
       "    <tr>\n",
       "        <td>Jack Evans</td>\n",
       "        <td>7</td>\n",
       "    </tr>\n",
       "    <tr>\n",
       "        <td>Calvin Gurley</td>\n",
       "        <td>7</td>\n",
       "    </tr>\n",
       "    <tr>\n",
       "        <td>William Simons</td>\n",
       "        <td>7</td>\n",
       "    </tr>\n",
       "    <tr>\n",
       "        <td>Philip Pannell</td>\n",
       "        <td>6</td>\n",
       "    </tr>\n",
       "</table>"
      ],
      "text/plain": [
       "[(None, 613),\n",
       " ('Michael Brown', 11),\n",
       " ('Lankward Smith', 10),\n",
       " ('Vincent Gray', 9),\n",
       " ('Vincent Orange', 9),\n",
       " ('Phil Mendelson', 7),\n",
       " ('Jack Evans', 7),\n",
       " ('Calvin Gurley', 7),\n",
       " ('William Simons', 7),\n",
       " ('Philip Pannell', 6)]"
      ]
     },
     "execution_count": 28,
     "metadata": {},
     "output_type": "execute_result"
    }
   ],
   "source": [
    "%%sql\n",
    "SELECT candidate_name, COUNT(*)\n",
    "FROM campaign\n",
    "GROUP BY candidate_name\n",
    "ORDER BY COUNT DESC\n",
    "LIMIT 10;"
   ]
  },
  {
   "cell_type": "markdown",
   "metadata": {},
   "source": [
    "I am curious about which candidates get more support but the results show most of candidate_name are null values, so I will query about the committee name."
   ]
  },
  {
   "cell_type": "code",
   "execution_count": 3,
   "metadata": {},
   "outputs": [
    {
     "name": "stdout",
     "output_type": "stream",
     "text": [
      "10 rows affected.\n"
     ]
    },
    {
     "data": {
      "text/html": [
       "<table>\n",
       "    <tr>\n",
       "        <th>committee_name</th>\n",
       "        <th>count</th>\n",
       "    </tr>\n",
       "    <tr>\n",
       "        <td>Committee to Elect David Schwartzman</td>\n",
       "        <td>3</td>\n",
       "    </tr>\n",
       "    <tr>\n",
       "        <td>Friends of Calvin Gurley</td>\n",
       "        <td>3</td>\n",
       "    </tr>\n",
       "    <tr>\n",
       "        <td>Abraham for Ward 8</td>\n",
       "        <td>2</td>\n",
       "    </tr>\n",
       "    <tr>\n",
       "        <td>Nathan Ackerman</td>\n",
       "        <td>2</td>\n",
       "    </tr>\n",
       "    <tr>\n",
       "        <td>Committee to Elect Victor Reinoso</td>\n",
       "        <td>2</td>\n",
       "    </tr>\n",
       "    <tr>\n",
       "        <td>Lakisha Brown</td>\n",
       "        <td>2</td>\n",
       "    </tr>\n",
       "    <tr>\n",
       "        <td>Michael B. Soderman</td>\n",
       "        <td>2</td>\n",
       "    </tr>\n",
       "    <tr>\n",
       "        <td>Your Leadership Slate</td>\n",
       "        <td>2</td>\n",
       "    </tr>\n",
       "    <tr>\n",
       "        <td>Doug Sloan 4 Ward 4 Council</td>\n",
       "        <td>2</td>\n",
       "    </tr>\n",
       "    <tr>\n",
       "        <td>John Kupcinski</td>\n",
       "        <td>2</td>\n",
       "    </tr>\n",
       "</table>"
      ],
      "text/plain": [
       "[('Committee to Elect David Schwartzman', 3),\n",
       " ('Friends of Calvin Gurley', 3),\n",
       " ('Abraham for Ward 8', 2),\n",
       " ('Nathan Ackerman', 2),\n",
       " ('Committee to Elect Victor Reinoso', 2),\n",
       " ('Lakisha Brown', 2),\n",
       " ('Michael B. Soderman', 2),\n",
       " ('Your Leadership Slate', 2),\n",
       " ('Doug Sloan 4 Ward 4 Council', 2),\n",
       " ('John Kupcinski', 2)]"
      ]
     },
     "execution_count": 3,
     "metadata": {},
     "output_type": "execute_result"
    }
   ],
   "source": [
    "%%sql\n",
    "SELECT committee_name, COUNT(*)\n",
    "FROM campaign\n",
    "GROUP BY committee_name\n",
    "ORDER BY COUNT DESC\n",
    "LIMIT 10;"
   ]
  },
  {
   "cell_type": "code",
   "execution_count": 5,
   "metadata": {},
   "outputs": [
    {
     "data": {
      "text/plain": [
       "<Container object of 10 artists>"
      ]
     },
     "execution_count": 5,
     "metadata": {},
     "output_type": "execute_result"
    },
    {
     "data": {
      "image/png": "[encoded data removed]",
      "text/plain": [
       "<matplotlib.figure.Figure at 0x7fe1f0026898>"
      ]
     },
     "metadata": {},
     "output_type": "display_data"
    }
   ],
   "source": [
    "_.bar()"
   ]
  },
  {
   "cell_type": "markdown",
   "metadata": {},
   "source": [
    "The result above tells us that the differen between contribution which comittees gain is small. Most committees get 2 records of contribution."
   ]
  },
  {
   "cell_type": "code",
   "execution_count": 4,
   "metadata": {
    "collapsed": true
   },
   "outputs": [],
   "source": [
    "%matplotlib inline"
   ]
  },
  {
   "cell_type": "code",
   "execution_count": 6,
   "metadata": {},
   "outputs": [
    {
     "name": "stdout",
     "output_type": "stream",
     "text": [
      "10 rows affected.\n"
     ]
    },
    {
     "data": {
      "text/html": [
       "<table>\n",
       "    <tr>\n",
       "        <th>election_year</th>\n",
       "        <th>count</th>\n",
       "    </tr>\n",
       "    <tr>\n",
       "        <td>2016</td>\n",
       "        <td>502</td>\n",
       "    </tr>\n",
       "    <tr>\n",
       "        <td>2014</td>\n",
       "        <td>138</td>\n",
       "    </tr>\n",
       "    <tr>\n",
       "        <td>2012</td>\n",
       "        <td>84</td>\n",
       "    </tr>\n",
       "    <tr>\n",
       "        <td>2006</td>\n",
       "        <td>84</td>\n",
       "    </tr>\n",
       "    <tr>\n",
       "        <td>2002</td>\n",
       "        <td>71</td>\n",
       "    </tr>\n",
       "    <tr>\n",
       "        <td>2015</td>\n",
       "        <td>68</td>\n",
       "    </tr>\n",
       "    <tr>\n",
       "        <td>2010</td>\n",
       "        <td>66</td>\n",
       "    </tr>\n",
       "    <tr>\n",
       "        <td>2004</td>\n",
       "        <td>60</td>\n",
       "    </tr>\n",
       "    <tr>\n",
       "        <td>2008</td>\n",
       "        <td>55</td>\n",
       "    </tr>\n",
       "    <tr>\n",
       "        <td>2007</td>\n",
       "        <td>49</td>\n",
       "    </tr>\n",
       "</table>"
      ],
      "text/plain": [
       "[(2016, 502),\n",
       " (2014, 138),\n",
       " (2012, 84),\n",
       " (2006, 84),\n",
       " (2002, 71),\n",
       " (2015, 68),\n",
       " (2010, 66),\n",
       " (2004, 60),\n",
       " (2008, 55),\n",
       " (2007, 49)]"
      ]
     },
     "execution_count": 6,
     "metadata": {},
     "output_type": "execute_result"
    }
   ],
   "source": [
    "%%sql\n",
    "SELECT election_year, COUNT(*)\n",
    "FROM campaign\n",
    "GROUP BY election_year\n",
    "ORDER BY COUNT DESC\n",
    "LIMIT 10;"
   ]
  },
  {
   "cell_type": "code",
   "execution_count": 7,
   "metadata": {},
   "outputs": [
    {
     "data": {
      "text/plain": [
       "<Container object of 10 artists>"
      ]
     },
     "execution_count": 7,
     "metadata": {},
     "output_type": "execute_result"
    },
    {
     "data": {
      "image/png": "[encoded data removed]",
      "text/plain": [
       "<matplotlib.figure.Figure at 0x7fe1e6e8b860>"
      ]
     },
     "metadata": {},
     "output_type": "display_data"
    }
   ],
   "source": [
    "_.bar()"
   ]
  },
  {
   "cell_type": "markdown",
   "metadata": {},
   "source": [
    "It is very interesting that there are 502 records of contribution in 2016, the highest one. It is almost 3 times bigger than the second one."
   ]
  },
  {
   "cell_type": "code",
   "execution_count": 8,
   "metadata": {},
   "outputs": [
    {
     "name": "stdout",
     "output_type": "stream",
     "text": [
      "10 rows affected.\n"
     ]
    },
    {
     "data": {
      "text/html": [
       "<table>\n",
       "    <tr>\n",
       "        <th>type</th>\n",
       "        <th>count</th>\n",
       "    </tr>\n",
       "    <tr>\n",
       "        <td>Individual</td>\n",
       "        <td>121685</td>\n",
       "    </tr>\n",
       "    <tr>\n",
       "        <td>Corporation</td>\n",
       "        <td>20459</td>\n",
       "    </tr>\n",
       "    <tr>\n",
       "        <td>Limited Liability Company</td>\n",
       "        <td>751</td>\n",
       "    </tr>\n",
       "    <tr>\n",
       "        <td>Organization</td>\n",
       "        <td>327</td>\n",
       "    </tr>\n",
       "    <tr>\n",
       "        <td>Candidate</td>\n",
       "        <td>264</td>\n",
       "    </tr>\n",
       "    <tr>\n",
       "        <td>Other</td>\n",
       "        <td>192</td>\n",
       "    </tr>\n",
       "    <tr>\n",
       "        <td>None</td>\n",
       "        <td>129</td>\n",
       "    </tr>\n",
       "    <tr>\n",
       "        <td>Committee</td>\n",
       "        <td>77</td>\n",
       "    </tr>\n",
       "    <tr>\n",
       "        <td>Corporate Sponsored PAC</td>\n",
       "        <td>66</td>\n",
       "    </tr>\n",
       "    <tr>\n",
       "        <td>Labor</td>\n",
       "        <td>65</td>\n",
       "    </tr>\n",
       "</table>"
      ],
      "text/plain": [
       "[('Individual', 121685),\n",
       " ('Corporation', 20459),\n",
       " ('Limited Liability Company', 751),\n",
       " ('Organization', 327),\n",
       " ('Candidate', 264),\n",
       " ('Other', 192),\n",
       " (None, 129),\n",
       " ('Committee', 77),\n",
       " ('Corporate Sponsored PAC', 66),\n",
       " ('Labor', 65)]"
      ]
     },
     "execution_count": 8,
     "metadata": {},
     "output_type": "execute_result"
    }
   ],
   "source": [
    "%%sql\n",
    "SELECT type, COUNT(*)\n",
    "FROM contributor\n",
    "GROUP BY type\n",
    "ORDER BY COUNT DESC\n",
    "LIMIT 10;"
   ]
  },
  {
   "cell_type": "code",
   "execution_count": 9,
   "metadata": {},
   "outputs": [
    {
     "data": {
      "text/plain": [
       "<Container object of 10 artists>"
      ]
     },
     "execution_count": 9,
     "metadata": {},
     "output_type": "execute_result"
    },
    {
     "data": {
      "image/png": "[encoded data removed]",
      "text/plain": [
       "<matplotlib.figure.Figure at 0x7fe1e6d60588>"
      ]
     },
     "metadata": {},
     "output_type": "display_data"
    }
   ],
   "source": [
    "_.bar()"
   ]
  },
  {
   "cell_type": "markdown",
   "metadata": {},
   "source": [
    "The data show us that individual contribution accounts for the biggest propotion and is 5 times bigger than the corpooration type."
   ]
  },
  {
   "cell_type": "code",
   "execution_count": 17,
   "metadata": {},
   "outputs": [
    {
     "name": "stdout",
     "output_type": "stream",
     "text": [
      "10 rows affected.\n"
     ]
    },
    {
     "data": {
      "text/html": [
       "<table>\n",
       "    <tr>\n",
       "        <th>type</th>\n",
       "        <th>sum</th>\n",
       "    </tr>\n",
       "    <tr>\n",
       "        <td>Individual</td>\n",
       "        <td>40773943.75</td>\n",
       "    </tr>\n",
       "    <tr>\n",
       "        <td>Corporation</td>\n",
       "        <td>33034416.73</td>\n",
       "    </tr>\n",
       "    <tr>\n",
       "        <td>PCC</td>\n",
       "        <td>1651744.07</td>\n",
       "    </tr>\n",
       "    <tr>\n",
       "        <td>Candidate</td>\n",
       "        <td>1628244.17</td>\n",
       "    </tr>\n",
       "    <tr>\n",
       "        <td>Organization</td>\n",
       "        <td>699724.40</td>\n",
       "    </tr>\n",
       "    <tr>\n",
       "        <td>Other</td>\n",
       "        <td>584448.14</td>\n",
       "    </tr>\n",
       "    <tr>\n",
       "        <td>Limited Liability Company</td>\n",
       "        <td>527383.45</td>\n",
       "    </tr>\n",
       "    <tr>\n",
       "        <td>Committee</td>\n",
       "        <td>482842.83</td>\n",
       "    </tr>\n",
       "    <tr>\n",
       "        <td>None</td>\n",
       "        <td>456211.53</td>\n",
       "    </tr>\n",
       "    <tr>\n",
       "        <td>Labor</td>\n",
       "        <td>421375.84</td>\n",
       "    </tr>\n",
       "</table>"
      ],
      "text/plain": [
       "[('Individual', Decimal('40773943.75')),\n",
       " ('Corporation', Decimal('33034416.73')),\n",
       " ('PCC', Decimal('1651744.07')),\n",
       " ('Candidate', Decimal('1628244.17')),\n",
       " ('Organization', Decimal('699724.40')),\n",
       " ('Other', Decimal('584448.14')),\n",
       " ('Limited Liability Company', Decimal('527383.45')),\n",
       " ('Committee', Decimal('482842.83')),\n",
       " (None, Decimal('456211.53')),\n",
       " ('Labor', Decimal('421375.84'))]"
      ]
     },
     "execution_count": 17,
     "metadata": {},
     "output_type": "execute_result"
    }
   ],
   "source": [
    "%%sql\n",
    "SELECT contributor.type, SUM(contribution_facts.amount)\n",
    "FROM contributor,contribution_facts\n",
    "WHERE contributor.contributor_key = contribution_facts.contributor_key\n",
    "GROUP BY contributor.type\n",
    "ORDER BY SUM DESC\n",
    "LIMIT 10;"
   ]
  },
  {
   "cell_type": "code",
   "execution_count": 18,
   "metadata": {},
   "outputs": [
    {
     "data": {
      "text/plain": [
       "<Container object of 10 artists>"
      ]
     },
     "execution_count": 18,
     "metadata": {},
     "output_type": "execute_result"
    },
    {
     "data": {
      "image/png": "[encoded data removed]",
      "text/plain": [
       "<matplotlib.figure.Figure at 0x7fe1e6cea0b8>"
      ]
     },
     "metadata": {},
     "output_type": "display_data"
    }
   ],
   "source": [
    "_.bar()"
   ]
  },
  {
   "cell_type": "markdown",
   "metadata": {},
   "source": [
    "As expected, the amount from individual is the highest but the amount from Corporation is also huge. We can conclude that though the number of contribution from corporation is almost 5 times lower than the one from individual, the amount of each contribution is high so that the difference between them is smaller. Both of them are many times bigger than the amount from other types."
   ]
  }
 ],
 "metadata": {
  "anaconda-cloud": {},
  "kernelspec": {
   "display_name": "Python 3",
   "language": "python",
   "name": "python3"
  },
  "language_info": {
   "codemirror_mode": {
    "name": "ipython",
    "version": 3
   },
   "file_extension": ".py",
   "mimetype": "text/x-python",
   "name": "python",
   "nbconvert_exporter": "python",
   "pygments_lexer": "ipython3",
   "version": "3.6.1"
  }
 },
 "nbformat": 4,
 "nbformat_minor": 1
}
