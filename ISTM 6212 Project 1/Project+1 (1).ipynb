{
 "cells": [
  {
   "cell_type": "markdown",
   "metadata": {},
   "source": [
    "# Problem 1 - Word counts"
   ]
  },
  {
   "cell_type": "markdown",
   "metadata": {},
   "source": [
    "## P1 - Part A"
   ]
  },
  {
   "cell_type": "code",
   "execution_count": null,
   "metadata": {
    "collapsed": true,
    "scrolled": false
   },
   "outputs": [],
   "source": [
    "!wget https://s3.amazonaws.com/2017-dmfa/project-1/holmes.txt"
   ]
  },
  {
   "cell_type": "markdown",
   "metadata": {},
   "source": [
    "It's case sensitive since the first letter has to be uppercase for names. "
   ]
  },
  {
   "cell_type": "code",
   "execution_count": 1,
   "metadata": {},
   "outputs": [
    {
     "name": "stdout",
     "output_type": "stream",
     "text": [
      "460\r\n"
     ]
    }
   ],
   "source": [
    "!grep -c Holmes holmes.txt"
   ]
  },
  {
   "cell_type": "code",
   "execution_count": 2,
   "metadata": {},
   "outputs": [
    {
     "name": "stdout",
     "output_type": "stream",
     "text": [
      "81\r\n"
     ]
    }
   ],
   "source": [
    "!grep -c Watson holmes.txt"
   ]
  },
  {
   "cell_type": "code",
   "execution_count": 3,
   "metadata": {},
   "outputs": [
    {
     "name": "stdout",
     "output_type": "stream",
     "text": [
      "15\r\n"
     ]
    }
   ],
   "source": [
    "!grep -c Adler holmes.txt"
   ]
  },
  {
   "cell_type": "code",
   "execution_count": 4,
   "metadata": {},
   "outputs": [
    {
     "name": "stdout",
     "output_type": "stream",
     "text": [
      "4\r\n"
     ]
    }
   ],
   "source": [
    "!grep -c Hudson holmes.txt"
   ]
  },
  {
   "cell_type": "markdown",
   "metadata": {},
   "source": [
    "## P1 - Part B"
   ]
  },
  {
   "cell_type": "code",
   "execution_count": null,
   "metadata": {
    "collapsed": true
   },
   "outputs": [],
   "source": [
    "!wget https://s3.amazonaws.com/2017-dmfa/project-1/romeo.txt"
   ]
  },
  {
   "cell_type": "code",
   "execution_count": 3,
   "metadata": {},
   "outputs": [
    {
     "name": "stdout",
     "output_type": "stream",
     "text": [
      "163\r\n"
     ]
    }
   ],
   "source": [
    "!grep -c 'Rom\\.' romeo.txt"
   ]
  },
  {
   "cell_type": "code",
   "execution_count": 4,
   "metadata": {
    "scrolled": true
   },
   "outputs": [
    {
     "name": "stdout",
     "output_type": "stream",
     "text": [
      "117\r\n"
     ]
    }
   ],
   "source": [
    "!grep -c 'Jul\\.' romeo.txt"
   ]
  },
  {
   "cell_type": "markdown",
   "metadata": {},
   "source": [
    "# Problem 2 - Capital Bikeshare"
   ]
  },
  {
   "cell_type": "markdown",
   "metadata": {},
   "source": [
    "## P2 - Part A"
   ]
  },
  {
   "cell_type": "code",
   "execution_count": null,
   "metadata": {
    "collapsed": true,
    "scrolled": true
   },
   "outputs": [],
   "source": [
    "!wget https://s3.amazonaws.com/2017-dmfa/project-1/2016-Q3-cabi-trips-history-data.zip"
   ]
  },
  {
   "cell_type": "code",
   "execution_count": null,
   "metadata": {
    "collapsed": true
   },
   "outputs": [],
   "source": [
    "!unzip 2016-Q3-cabi-trips-history-data.zip"
   ]
  },
  {
   "cell_type": "code",
   "execution_count": null,
   "metadata": {
    "collapsed": true
   },
   "outputs": [],
   "source": [
    "!csvstack 2016-Q3-Trips-History-Data-1.csv 2016-Q3-Trips-History-Data-2.csv > data.csv"
   ]
  },
  {
   "cell_type": "code",
   "execution_count": 7,
   "metadata": {},
   "outputs": [
    {
     "name": "stdout",
     "output_type": "stream",
     "text": [
      "  1: Duration (ms)\r\n",
      "  2: Start date\r\n",
      "  3: End date\r\n",
      "  4: Start station number\r\n",
      "  5: Start station\r\n",
      "  6: End station number\r\n",
      "  7: End station\r\n",
      "  8: Bike number\r\n",
      "  9: Member Type\r\n"
     ]
    }
   ],
   "source": [
    "!csvcut -n data.csv"
   ]
  },
  {
   "cell_type": "markdown",
   "metadata": {},
   "source": [
    "10 Capital Bikeshare stations that were the most popular departing stations in Q3 2016:"
   ]
  },
  {
   "cell_type": "code",
   "execution_count": 8,
   "metadata": {},
   "outputs": [
    {
     "name": "stdout",
     "output_type": "stream",
     "text": [
      "  20124 Columbus Circle / Union Station\r\n",
      "  19581 Lincoln Memorial\r\n",
      "  19103 Jefferson Dr & 14th St SW\r\n",
      "  16099 Massachusetts Ave & Dupont Circle NW\r\n",
      "  13134 15th & P St NW\r\n",
      "  12984 Henry Bacon Dr & Lincoln Memorial Circle NW\r\n",
      "  12519 Jefferson Memorial\r\n",
      "  11469 Thomas Circle\r\n",
      "  10762 14th & V St NW\r\n",
      "   9767 New Hampshire Ave & T St NW\r\n"
     ]
    }
   ],
   "source": [
    "!csvcut -c 5 data.csv | sort | uniq -c | sort -rn | head"
   ]
  },
  {
   "cell_type": "markdown",
   "metadata": {},
   "source": [
    "10 Capital Bikeshare stations that were the most popular destination stations in Q3 2016:"
   ]
  },
  {
   "cell_type": "code",
   "execution_count": 9,
   "metadata": {},
   "outputs": [
    {
     "name": "stdout",
     "output_type": "stream",
     "text": [
      "  20814 Columbus Circle / Union Station\r\n",
      "  19624 Lincoln Memorial\r\n",
      "  19296 Jefferson Dr & 14th St SW\r\n",
      "  17138 Massachusetts Ave & Dupont Circle NW\r\n",
      "  13845 15th & P St NW\r\n",
      "  12925 Jefferson Memorial\r\n",
      "  12664 Henry Bacon Dr & Lincoln Memorial Circle NW\r\n",
      "  11657 14th & V St NW\r\n",
      "  10987 Thomas Circle\r\n",
      "  10204 New Hampshire Ave & T St NW\r\n"
     ]
    }
   ],
   "source": [
    "!csvcut -c 7 data.csv | sort | uniq -c | sort -rn | head"
   ]
  },
  {
   "cell_type": "markdown",
   "metadata": {},
   "source": [
    "## P2 - Part B"
   ]
  },
  {
   "cell_type": "markdown",
   "metadata": {},
   "source": [
    "The 10 most used bikes in trips departing from the most popular departure station:"
   ]
  },
  {
   "cell_type": "code",
   "execution_count": 10,
   "metadata": {},
   "outputs": [
    {
     "name": "stdout",
     "output_type": "stream",
     "text": [
      "     23 W01092\r\n",
      "     21 W22623\r\n",
      "     19 W22487\r\n",
      "     18 W20223\r\n",
      "     17 W22786\r\n",
      "     17 W22753\r\n",
      "     17 W21732\r\n",
      "     16 W22903\r\n",
      "     16 W22591\r\n",
      "     16 W22567\r\n",
      "sort: write failed: 'standard output': Broken pipe\r\n",
      "sort: write error\r\n"
     ]
    }
   ],
   "source": [
    "!csvcut -c 5,8 data.csv \\\n",
    "    | grep \"Columbus Circle / Union Station\" \\\n",
    "    | csvcut -c2 \\\n",
    "    | sort -n \\\n",
    "    | uniq -c \\\n",
    "    | sort -rn \\\n",
    "    | head"
   ]
  },
  {
   "cell_type": "markdown",
   "metadata": {},
   "source": [
    "The 10 most used bikes in trips ending at the most popular destination station:"
   ]
  },
  {
   "cell_type": "code",
   "execution_count": 11,
   "metadata": {},
   "outputs": [
    {
     "name": "stdout",
     "output_type": "stream",
     "text": [
      "     22 W01092\r\n",
      "     20 W22623\r\n",
      "     19 W20223\r\n",
      "     17 W22487\r\n",
      "     17 W22377\r\n",
      "     17 W21907\r\n",
      "     17 W21285\r\n",
      "     17 W00319\r\n",
      "     16 W22753\r\n",
      "     16 W22567\r\n",
      "sort: write failed: 'standard output': Broken pipe\r\n",
      "sort: write error\r\n"
     ]
    }
   ],
   "source": [
    "!csvcut -c 7,8 data.csv \\\n",
    "    | grep \"Columbus Circle / Union Station\" \\\n",
    "    | csvcut -c2 \\\n",
    "    | sort -n \\\n",
    "    | uniq -c \\\n",
    "    | sort -rn \\\n",
    "    | head"
   ]
  },
  {
   "cell_type": "markdown",
   "metadata": {
    "collapsed": true
   },
   "source": [
    "# Problem 3 - Filters"
   ]
  },
  {
   "cell_type": "markdown",
   "metadata": {
    "collapsed": true
   },
   "source": [
    "## P3 - Part A"
   ]
  },
  {
   "cell_type": "code",
   "execution_count": 12,
   "metadata": {},
   "outputs": [
    {
     "name": "stdout",
     "output_type": "stream",
     "text": [
      "   5810 the\r\n",
      "   3088 and\r\n",
      "   2823 to\r\n",
      "   2778 of\r\n",
      "   1823 in\r\n",
      "   1767 that\r\n",
      "   1749 it\r\n",
      "   1572 you\r\n",
      "   1486 he\r\n",
      "   1411 was\r\n",
      "sort: write failed: 'standard output': Broken pipe\r\n",
      "sort: write error\r\n"
     ]
    }
   ],
   "source": [
    "!grep -oE '\\w{{2,}}' holmes.txt \\\n",
    "    | tr '[:upper:]' '[:lower:]' \\\n",
    "    | sort \\\n",
    "    | uniq -c \\\n",
    "    | sort -rn \\\n",
    "    | head -10"
   ]
  },
  {
   "cell_type": "code",
   "execution_count": null,
   "metadata": {
    "collapsed": true
   },
   "outputs": [],
   "source": [
    "!wget https://s3.amazonaws.com/2017-dmfa/week-3/simplefilter.py"
   ]
  },
  {
   "cell_type": "code",
   "execution_count": 20,
   "metadata": {
    "collapsed": true
   },
   "outputs": [],
   "source": [
    "!chmod +x seperation.py"
   ]
  },
  {
   "cell_type": "code",
   "execution_count": 22,
   "metadata": {},
   "outputs": [
    {
     "name": "stdout",
     "output_type": "stream",
     "text": [
      "   5810 the\r\n",
      "   3088 and\r\n",
      "   2823 to\r\n",
      "   2778 of\r\n",
      "   1823 in\r\n",
      "   1767 that\r\n",
      "   1749 it\r\n",
      "   1572 you\r\n",
      "   1486 he\r\n",
      "   1411 was\r\n",
      "sort: write failed: 'standard output': Broken pipe\r\n",
      "sort: write error\r\n"
     ]
    }
   ],
   "source": [
    "!cat holmes.txt | ./seperation.py \\\n",
    "    | tr '[:upper:]' '[:lower:]' \\\n",
    "    | sort \\\n",
    "    | uniq -c \\\n",
    "    | sort -rn \\\n",
    "    | head -10"
   ]
  },
  {
   "cell_type": "code",
   "execution_count": null,
   "metadata": {
    "collapsed": true
   },
   "outputs": [],
   "source": [
    "#!cp simplefilter.py lowercases.py"
   ]
  },
  {
   "cell_type": "code",
   "execution_count": 23,
   "metadata": {
    "collapsed": true
   },
   "outputs": [],
   "source": [
    "!chmod +x lowercases.py"
   ]
  },
  {
   "cell_type": "code",
   "execution_count": 24,
   "metadata": {},
   "outputs": [
    {
     "name": "stdout",
     "output_type": "stream",
     "text": [
      "   5810 the\r\n",
      "   3088 and\r\n",
      "   2823 to\r\n",
      "   2778 of\r\n",
      "   1823 in\r\n",
      "   1767 that\r\n",
      "   1749 it\r\n",
      "   1572 you\r\n",
      "   1486 he\r\n",
      "   1411 was\r\n",
      "sort: write failed: 'standard output': Broken pipe\r\n",
      "sort: write error\r\n"
     ]
    }
   ],
   "source": [
    "!cat holmes.txt | ./seperation.py \\\n",
    "    | ./lowercases.py \\\n",
    "    | sort \\\n",
    "    | uniq -c \\\n",
    "    | sort -rn \\\n",
    "    | head -10"
   ]
  },
  {
   "cell_type": "markdown",
   "metadata": {},
   "source": [
    "## P3 - Part B"
   ]
  },
  {
   "cell_type": "code",
   "execution_count": null,
   "metadata": {
    "collapsed": true
   },
   "outputs": [],
   "source": [
    "#!cp simplefilter.py stopwordfilter.py"
   ]
  },
  {
   "cell_type": "code",
   "execution_count": 25,
   "metadata": {
    "collapsed": true
   },
   "outputs": [],
   "source": [
    "!chmod +x stopwords.py"
   ]
  },
  {
   "cell_type": "code",
   "execution_count": 26,
   "metadata": {},
   "outputs": [
    {
     "name": "stdout",
     "output_type": "stream",
     "text": [
      "    467 holmes\r\n",
      "    401 very\r\n",
      "    378 one\r\n",
      "    305 man\r\n",
      "    275 mr\r\n",
      "    269 little\r\n",
      "    234 now\r\n",
      "    232 see\r\n",
      "    201 well\r\n",
      "    174 think\r\n",
      "    171 room\r\n",
      "    171 know\r\n",
      "    162 come\r\n",
      "    151 time\r\n",
      "    148 two\r\n",
      "    146 came\r\n",
      "    144 door\r\n",
      "    140 here\r\n",
      "    139 back\r\n",
      "    137 good\r\n",
      "    128 face\r\n",
      "    125 matter\r\n",
      "    123 house\r\n",
      "    120 hand\r\n",
      "    118 way\r\n",
      "sort: write failed: 'standard output': Broken pipe\r\n",
      "sort: write error\r\n"
     ]
    }
   ],
   "source": [
    "!cat holmes.txt \\\n",
    "    |  ./seperation.py  \\\n",
    "    |./lowercases.py \\\n",
    "    | ./stopwords.py \\\n",
    "    |sort\\\n",
    "    | uniq -c\\\n",
    "    | sort -rn\\\n",
    "    | head -25"
   ]
  },
  {
   "cell_type": "code",
   "execution_count": null,
   "metadata": {
    "collapsed": true
   },
   "outputs": [],
   "source": []
  }
 ],
 "metadata": {
  "kernelspec": {
   "display_name": "Python 3",
   "language": "python",
   "name": "python3"
  },
  "language_info": {
   "codemirror_mode": {
    "name": "ipython",
    "version": 3
   },
   "file_extension": ".py",
   "mimetype": "text/x-python",
   "name": "python",
   "nbconvert_exporter": "python",
   "pygments_lexer": "ipython3",
   "version": "3.5.3"
  }
 },
 "nbformat": 4,
 "nbformat_minor": 2
}
