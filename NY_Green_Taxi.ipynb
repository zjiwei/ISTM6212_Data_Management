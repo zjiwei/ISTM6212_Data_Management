{
 "cells": [
  {
   "cell_type": "markdown",
   "metadata": {},
   "source": [
    "# New York Green taxi trip records analysis"
   ]
  },
  {
   "cell_type": "markdown",
   "metadata": {},
   "source": [
    "***Please notice that our dataset is large and if you get memory error, please resart the notebook and run the queries before part 3: analysis, then continue the following analysis.***"
   ]
  },
  {
   "cell_type": "code",
   "execution_count": 2,
   "metadata": {},
   "outputs": [
    {
     "data": {
      "text/html": [
       "\n",
       "        <div>\n",
       "            <p><b>SparkContext</b></p>\n",
       "\n",
       "            <p><a href=\"http://172.31.42.173:4040\">Spark UI</a></p>\n",
       "\n",
       "            <dl>\n",
       "              <dt>Version</dt>\n",
       "                <dd><code>v2.2.0</code></dd>\n",
       "              <dt>Master</dt>\n",
       "                <dd><code>local</code></dd>\n",
       "              <dt>AppName</dt>\n",
       "                <dd><code>project-04</code></dd>\n",
       "            </dl>\n",
       "        </div>\n",
       "        "
      ],
      "text/plain": [
       "<SparkContext master=local appName=project-04>"
      ]
     },
     "execution_count": 2,
     "metadata": {},
     "output_type": "execute_result"
    }
   ],
   "source": [
    "import os\n",
    "os.environ['SPARK_HOME'] = '/usr/local/lib/spark'\n",
    "import findspark\n",
    "findspark.init()\n",
    "from pyspark import SparkContext\n",
    "spark = SparkContext(\"local\", appName='project-04')\n",
    "spark"
   ]
  },
  {
   "cell_type": "code",
   "execution_count": 1,
   "metadata": {},
   "outputs": [
    {
     "name": "stdout",
     "output_type": "stream",
     "text": [
      "--2017-12-07 23:32:11--  https://s3.amazonaws.com/nyc-tlc/trip+data/green_tripdata_2017-06.csv\n",
      "Resolving s3.amazonaws.com (s3.amazonaws.com)... 52.216.164.101\n",
      "Connecting to s3.amazonaws.com (s3.amazonaws.com)|52.216.164.101|:443... connected.\n",
      "HTTP request sent, awaiting response... 200 OK\n",
      "Length: 87477546 (83M) [application/x-www-form-urlencoded]\n",
      "Saving to: ‘green_tripdata_2017-06.csv’\n",
      "\n",
      "green_tripdata_2017 100%[===================>]  83.42M  59.0MB/s    in 1.4s    \n",
      "\n",
      "2017-12-07 23:32:13 (59.0 MB/s) - ‘green_tripdata_2017-06.csv’ saved [87477546/87477546]\n",
      "\n"
     ]
    }
   ],
   "source": [
    "!wget https://s3.amazonaws.com/nyc-tlc/trip+data/green_tripdata_2017-06.csv"
   ]
  },
  {
   "cell_type": "code",
   "execution_count": 3,
   "metadata": {},
   "outputs": [
    {
     "data": {
      "text/plain": [
       "<pyspark.sql.context.SQLContext at 0x7f4b8665f828>"
      ]
     },
     "execution_count": 3,
     "metadata": {},
     "output_type": "execute_result"
    }
   ],
   "source": [
    "from pyspark import SQLContext\n",
    "sqlc = SQLContext(spark)\n",
    "sqlc"
   ]
  },
  {
   "cell_type": "code",
   "execution_count": 4,
   "metadata": {
    "collapsed": true
   },
   "outputs": [],
   "source": [
    "#Increase the executor and driver memory to avoid out of memory error\n",
    "SparkContext.setSystemProperty('spark.executor.memory', '8g')\n",
    "SparkContext.setSystemProperty('spark.driver.memory', '8g')"
   ]
  },
  {
   "cell_type": "markdown",
   "metadata": {},
   "source": [
    "## Part 1: Slection"
   ]
  },
  {
   "cell_type": "markdown",
   "metadata": {},
   "source": [
    "*** Select Data and import the data***"
   ]
  },
  {
   "cell_type": "markdown",
   "metadata": {},
   "source": [
    "We selected the NYC green taxi trip records as our research object.\n",
    "\n",
    "The green taxi trip records include fields capturing pick-up and drop-off dates/times, pick-up and drop-off locations, trip distances, itemized fares, rate types, payment types, and driver-reported passenger counts.\n",
    "The data collected and provided to the NYC Taxi and technology providers.  We downloaded the raw data from the link (http://www.nyc.gov/html/tlc/html/about/trip_record_data.shtml).\n",
    "\n",
    "New York City is one of the largest cities in the United States and traffic issues are always haunting NYC. We want to probe the taxi data to dig out some patterns of NYC transportation and traits of taxi transaction."
   ]
  },
  {
   "cell_type": "code",
   "execution_count": 6,
   "metadata": {},
   "outputs": [
    {
     "data": {
      "text/plain": [
       "976467"
      ]
     },
     "execution_count": 6,
     "metadata": {},
     "output_type": "execute_result"
    }
   ],
   "source": [
    "green = sqlc.read.format(\"csv\").option(\"header\", \"true\").load(\"green_tripdata_2017-06.csv\")\n",
    "green.count()"
   ]
  },
  {
   "cell_type": "code",
   "execution_count": 7,
   "metadata": {},
   "outputs": [
    {
     "data": {
      "text/plain": [
       "[Row(VendorID='2', lpep_pickup_datetime='2017-06-01 00:33:45', lpep_dropoff_datetime='2017-06-01 01:39:52', store_and_fwd_flag='N', RatecodeID='4', PULocationID='35', DOLocationID='265', passenger_count='1', trip_distance='90.41', fare_amount='404.5', extra='0.5', mta_tax='0.5', tip_amount='0', tolls_amount='5.76', ehail_fee=None, improvement_surcharge='0.3', total_amount='413.51', payment_type='2', trip_type='1'),\n",
       " Row(VendorID='2', lpep_pickup_datetime='2017-06-01 00:33:55', lpep_dropoff_datetime='2017-06-01 23:36:23', store_and_fwd_flag='N', RatecodeID='1', PULocationID='263', DOLocationID='75', passenger_count='1', trip_distance='.38', fare_amount='4', extra='0.5', mta_tax='0.5', tip_amount='1.59', tolls_amount='0', ehail_fee=None, improvement_surcharge='0.3', total_amount='6.89', payment_type='1', trip_type='1'),\n",
       " Row(VendorID='2', lpep_pickup_datetime='2017-06-01 00:12:07', lpep_dropoff_datetime='2017-06-01 00:12:07', store_and_fwd_flag='N', RatecodeID='1', PULocationID='255', DOLocationID='43', passenger_count='1', trip_distance='9.49', fare_amount='31', extra='0.5', mta_tax='0.5', tip_amount='8.08', tolls_amount='0', ehail_fee=None, improvement_surcharge='0.3', total_amount='40.38', payment_type='1', trip_type='1')]"
      ]
     },
     "execution_count": 7,
     "metadata": {},
     "output_type": "execute_result"
    }
   ],
   "source": [
    "green.take(3)"
   ]
  },
  {
   "cell_type": "markdown",
   "metadata": {},
   "source": [
    "*** Look at the summary statistics ***"
   ]
  },
  {
   "cell_type": "markdown",
   "metadata": {},
   "source": [
    "We used ‘csv stat’ and ‘xsv’ to do an initial data exploration. We determine our theme is about the common routes and factors to taxi transaction."
   ]
  },
  {
   "cell_type": "code",
   "execution_count": 8,
   "metadata": {
    "collapsed": true
   },
   "outputs": [],
   "source": [
    "import pandas as pd\n",
    "green_jun = pd.read_csv(\"green_tripdata_2017-06.csv\")\n",
    "green_jun.sample(n=10000).to_csv('sample.csv', index = False)"
   ]
  },
  {
   "cell_type": "code",
   "execution_count": 9,
   "metadata": {
    "scrolled": true
   },
   "outputs": [
    {
     "name": "stdout",
     "output_type": "stream",
     "text": [
      "  1. VendorID\n",
      "\t<class 'int'>\n",
      "\tNulls: False\n",
      "\tValues: 1, 2\n",
      "  2. lpep_pickup_datetime\n",
      "\t<class 'datetime.datetime'>\n",
      "\tNulls: False\n",
      "\tMin: 2017-06-01 00:03:23\n",
      "\tMax: 2017-06-30 23:57:30\n",
      "\tUnique values: 9976\n",
      "\t5 most frequent values:\n",
      "\t\t2017-06-27 08:57:06:\t2\n",
      "\t\t2017-06-03 13:07:15:\t2\n",
      "\t\t2017-06-14 14:24:26:\t2\n",
      "\t\t2017-06-09 11:26:38:\t2\n",
      "\t\t2017-06-23 12:45:00:\t2\n",
      "  3. lpep_dropoff_datetime\n",
      "\t<class 'datetime.datetime'>\n",
      "\tNulls: False\n",
      "\tMin: 2017-06-01 00:15:47\n",
      "\tMax: 2017-07-01 21:19:50\n",
      "\tUnique values: 9967\n",
      "\t5 most frequent values:\n",
      "\t\t2017-06-08 17:25:45:\t2\n",
      "\t\t2017-06-18 17:46:36:\t2\n",
      "\t\t2017-06-10 01:04:31:\t2\n",
      "\t\t2017-06-16 00:00:00:\t2\n",
      "\t\t2017-06-07 21:44:19:\t2\n",
      "  4. store_and_fwd_flag\n",
      "\t<class 'bool'>\n",
      "\tNulls: False\n",
      "\tUnique values: 2\n",
      "\t5 most frequent values:\n",
      "\t\tFalse:\t9989\n",
      "\t\tTrue:\t11\n",
      "  5. RatecodeID\n",
      "\t<class 'int'>\n",
      "\tNulls: False\n",
      "\tValues: 1, 2, 3, 4, 5\n",
      "  6. PULocationID\n",
      "\t<class 'int'>\n",
      "\tNulls: False\n",
      "\tMin: 3\n",
      "\tMax: 265\n",
      "\tSum: 1127022\n",
      "\tMean: 112.7022\n",
      "\tMedian: 82.0\n",
      "\tStandard Deviation: 75.87679431262333\n",
      "\tUnique values: 162\n",
      "\t5 most frequent values:\n",
      "\t\t74:\t631\n",
      "\t\t41:\t565\n",
      "\t\t75:\t533\n",
      "\t\t7:\t499\n",
      "\t\t82:\t450\n",
      "  7. DOLocationID\n",
      "\t<class 'int'>\n",
      "\tNulls: False\n",
      "\tMin: 1\n",
      "\tMax: 265\n",
      "\tSum: 1301986\n",
      "\tMean: 130.1986\n",
      "\tMedian: 129.0\n",
      "\tStandard Deviation: 77.34510429264333\n",
      "\tUnique values: 227\n",
      "\t5 most frequent values:\n",
      "\t\t7:\t329\n",
      "\t\t74:\t329\n",
      "\t\t42:\t310\n",
      "\t\t41:\t291\n",
      "\t\t129:\t280\n",
      "  8. passenger_count\n",
      "\t<class 'int'>\n",
      "\tNulls: False\n",
      "\tMin: 0\n",
      "\tMax: 6\n",
      "\tSum: 13337\n",
      "\tMean: 1.3337\n",
      "\tMedian: 1.0\n",
      "\tStandard Deviation: 0.9815010494135942\n",
      "\tUnique values: 7\n",
      "\t5 most frequent values:\n",
      "\t\t1:\t8492\n",
      "\t\t2:\t794\n",
      "\t\t5:\t299\n",
      "\t\t3:\t198\n",
      "\t\t6:\t152\n",
      "  9. trip_distance\n",
      "\t<class 'float'>\n",
      "\tNulls: False\n",
      "\tMin: 0.0\n",
      "\tMax: 44.7\n",
      "\tSum: 27011.560000000016\n",
      "\tMean: 2.7011560000000014\n",
      "\tMedian: 1.8\n",
      "\tStandard Deviation: 2.7852005679419145\n",
      "\tUnique values: 1118\n",
      "\t5 most frequent values:\n",
      "\t\t0.0:\t143\n",
      "\t\t1.0:\t132\n",
      "\t\t1.1:\t124\n",
      "\t\t0.8:\t123\n",
      "\t\t1.2:\t119\n",
      " 10. fare_amount\n",
      "\t<class 'float'>\n",
      "\tNulls: False\n",
      "\tMin: -20.0\n",
      "\tMax: 120.0\n",
      "\tSum: 119644.27\n",
      "\tMean: 11.964427\n",
      "\tMedian: 9.5\n",
      "\tStandard Deviation: 8.900531743197735\n",
      "\tUnique values: 146\n",
      "\t5 most frequent values:\n",
      "\t\t6.0:\t527\n",
      "\t\t6.5:\t511\n",
      "\t\t5.5:\t504\n",
      "\t\t7.0:\t486\n",
      "\t\t5.0:\t475\n",
      " 11. extra\n",
      "\t<class 'float'>\n",
      "\tNulls: False\n",
      "\tMin: -1.0\n",
      "\tMax: 12.0\n",
      "\tSum: 3579.7\n",
      "\tMean: 0.35796999999999995\n",
      "\tMedian: 0.5\n",
      "\tStandard Deviation: 0.4275353542106436\n",
      "\tUnique values: 9\n",
      "\t5 most frequent values:\n",
      "\t\t0.0:\t4827\n",
      "\t\t0.5:\t3221\n",
      "\t\t1.0:\t1930\n",
      "\t\t-1.0:\t7\n",
      "\t\t4.5:\t6\n",
      " 12. mta_tax\n",
      "\t<class 'float'>\n",
      "\tNulls: False\n",
      "\tValues: -0.5, 0.0, 0.5\n",
      " 13. tip_amount\n",
      "\t<class 'float'>\n",
      "\tNulls: False\n",
      "\tMin: 0.0\n",
      "\tMax: 85.0\n",
      "\tSum: 12221.599999999973\n",
      "\tMean: 1.2221599999999972\n",
      "\tMedian: 0.0\n",
      "\tStandard Deviation: 2.2953102610322555\n",
      "\tUnique values: 467\n",
      "\t5 most frequent values:\n",
      "\t\t0.0:\t5762\n",
      "\t\t1.0:\t311\n",
      "\t\t2.0:\t252\n",
      "\t\t1.36:\t94\n",
      "\t\t3.0:\t86\n",
      " 14. tolls_amount\n",
      "\t<class 'float'>\n",
      "\tNulls: False\n",
      "\tMin: 0.0\n",
      "\tMax: 37.5\n",
      "\tSum: 1060.3199999999988\n",
      "\tMean: 0.10603199999999988\n",
      "\tMedian: 0.0\n",
      "\tStandard Deviation: 0.8900201430169977\n",
      "\tUnique values: 8\n",
      "\t5 most frequent values:\n",
      "\t\t0.0:\t9828\n",
      "\t\t5.76:\t155\n",
      "\t\t2.64:\t6\n",
      "\t\t10.5:\t4\n",
      "\t\t12.5:\t3\n",
      " 15. ehail_fee\n",
      "\t<class 'NoneType'>\n",
      "\tNulls: True\n",
      "\tValues: \n",
      " 16. improvement_surcharge\n",
      "\t<class 'float'>\n",
      "\tNulls: False\n",
      "\tValues: -0.3, 0.0, 0.3\n",
      " 17. total_amount\n",
      "\t<class 'float'>\n",
      "\tNulls: False\n",
      "\tMin: -23.9\n",
      "\tMax: 136.26\n",
      "\tSum: 145101.54000000702\n",
      "\tMean: 14.510154000000702\n",
      "\tMedian: 11.3\n",
      "\tStandard Deviation: 10.498940939746513\n",
      "\tUnique values: 857\n",
      "\t5 most frequent values:\n",
      "\t\t7.8:\t352\n",
      "\t\t6.8:\t341\n",
      "\t\t7.3:\t332\n",
      "\t\t8.3:\t329\n",
      "\t\t8.8:\t312\n",
      " 18. payment_type\n",
      "\t<class 'int'>\n",
      "\tNulls: False\n",
      "\tValues: 1, 2, 3, 4, 5\n",
      " 19. trip_type\n",
      "\t<class 'float'>\n",
      "\tNulls: False\n",
      "\tValues: 1.0, 2.0\n",
      "\n",
      "Row count: 10000\n"
     ]
    }
   ],
   "source": [
    "!csvstat sample.csv"
   ]
  },
  {
   "cell_type": "code",
   "execution_count": 11,
   "metadata": {
    "scrolled": true
   },
   "outputs": [
    {
     "name": "stdout",
     "output_type": "stream",
     "text": [
      "field,type,sum,min,max,min_length,max_length,mean,stddev\r\n",
      "VendorID,Integer,1752997,1,2,1,1,1.795244488548983,0.40352285187014103\r\n",
      "lpep_pickup_datetime,Unicode,,2017-06-01 00:00:00,2017-06-30 23:59:59,19,19,,\r\n",
      "lpep_dropoff_datetime,Unicode,,2017-06-01 00:00:00,2017-07-01 23:45:11,19,19,,\r\n",
      "store_and_fwd_flag,Unicode,,N,Y,1,1,,\r\n",
      "RatecodeID,Integer,1053122,1,99,1,2,1.0785023969064425,0.5534378026299072\r\n",
      "PULocationID,Integer,109276225,1,265,1,3,111.90979828299086,75.97746463736003\r\n",
      "DOLocationID,Integer,126354708,1,265,1,3,129.39987526460445,77.27918464243584\r\n",
      "passenger_count,Integer,1323355,0,9,1,1,1.3552480524175532,1.0208071368285072\r\n",
      "trip_distance,Float,2643000.339999917,0,170.59,3,6,2.706697041476892,2.842227781970804\r\n",
      "fare_amount,Float,11699125.550000003,-350,637.5,1,6,11.981076216605082,9.466846250681103\r\n",
      "extra,Float,348177.4000000003,-4.5,12,1,4,0.3565685271494018,0.39841839854684286\r\n",
      "mta_tax,Float,476610.5,-0.5,0.5,1,4,0.4880968839704849,0.08272048623899603\r\n",
      "tip_amount,Float,1180301.239999722,-2,250,1,6,1.2087466755149165,2.1860106089003426\r\n",
      "tolls_amount,Float,99945.46999997998,-12.5,99,1,5,0.10235417069906817,0.8569509801221101\r\n",
      "ehail_fee,NULL,,,,0,0,,\r\n",
      "improvement_surcharge,Float,286235.39999487647,-0.3,0.3,1,4,0.29313371573233393,0.04885449085808092\r\n",
      "total_amount,Float,14166833.390146112,-359.9,663.32,1,6,14.508256182749385,10.954115902995735\r\n",
      "payment_type,Integer,1477674,1,5,1,1,1.5132861632804615,0.5254208487284274\r\n",
      "trip_type,Integer,994340,1,2,0,1,1.0183047848055766,0.13405118298185198\r\n"
     ]
    }
   ],
   "source": [
    "!xsv stats green_tripdata_2017-06.csv"
   ]
  },
  {
   "cell_type": "markdown",
   "metadata": {},
   "source": [
    "*** Questions we want to answer ***"
   ]
  },
  {
   "cell_type": "markdown",
   "metadata": {},
   "source": [
    "* Top 10 popular pick up & drop off locations\n",
    "* The relationship of pick-up and drop-off locations - heat map\n",
    "* Top 10 common route\n",
    "* Distance & time hists\n",
    "* Total amount histogram\n",
    "* Check the relationship of speed and hours"
   ]
  },
  {
   "cell_type": "markdown",
   "metadata": {},
   "source": [
    "*** Our concern ***"
   ]
  },
  {
   "cell_type": "markdown",
   "metadata": {},
   "source": [
    "The data quality is a large issue for us. Some of data was provided manually so there are missing value and counter-intuitive data in the dataset. Return transactions also consist of  a part of data. We need to wrangling our data before we do further analysis."
   ]
  },
  {
   "cell_type": "markdown",
   "metadata": {},
   "source": [
    "## Part 2.Wrangling"
   ]
  },
  {
   "cell_type": "markdown",
   "metadata": {},
   "source": [
    "#### According to the summary, we do some data wrangling:"
   ]
  },
  {
   "cell_type": "markdown",
   "metadata": {},
   "source": [
    "#### First, we drop all the columns that are all missing values."
   ]
  },
  {
   "cell_type": "code",
   "execution_count": 12,
   "metadata": {
    "collapsed": true
   },
   "outputs": [],
   "source": [
    "green = green.drop('ehail_fee', 'store_and_fwd_flag')"
   ]
  },
  {
   "cell_type": "markdown",
   "metadata": {},
   "source": [
    "#### When the whole tables were imported into Spark, every columns were text data type. Then we changed the data types after importing the data.\n"
   ]
  },
  {
   "cell_type": "code",
   "execution_count": 13,
   "metadata": {
    "collapsed": true
   },
   "outputs": [],
   "source": [
    "datatype = ['integer','timestamp','timestamp','integer','integer','integer','integer','float','float','float','float','float',\n",
    "            'float','float','float','integer','integer']"
   ]
  },
  {
   "cell_type": "code",
   "execution_count": 14,
   "metadata": {
    "collapsed": true
   },
   "outputs": [],
   "source": [
    "for i in range(len(green.schema.names)):\n",
    "    green = green.withColumn(green.schema.names[i],green[green.schema.names[i]].cast(datatype[i]))"
   ]
  },
  {
   "cell_type": "code",
   "execution_count": 15,
   "metadata": {},
   "outputs": [
    {
     "data": {
      "text/plain": [
       "[Row(VendorID=2, lpep_pickup_datetime=datetime.datetime(2017, 6, 1, 0, 33, 45), lpep_dropoff_datetime=datetime.datetime(2017, 6, 1, 1, 39, 52), RatecodeID=4, PULocationID=35, DOLocationID=265, passenger_count=1, trip_distance=90.41000366210938, fare_amount=404.5, extra=0.5, mta_tax=0.5, tip_amount=0.0, tolls_amount=5.760000228881836, improvement_surcharge=0.30000001192092896, total_amount=413.510009765625, payment_type=2, trip_type=1),\n",
       " Row(VendorID=2, lpep_pickup_datetime=datetime.datetime(2017, 6, 1, 0, 33, 55), lpep_dropoff_datetime=datetime.datetime(2017, 6, 1, 23, 36, 23), RatecodeID=1, PULocationID=263, DOLocationID=75, passenger_count=1, trip_distance=0.3799999952316284, fare_amount=4.0, extra=0.5, mta_tax=0.5, tip_amount=1.590000033378601, tolls_amount=0.0, improvement_surcharge=0.30000001192092896, total_amount=6.889999866485596, payment_type=1, trip_type=1),\n",
       " Row(VendorID=2, lpep_pickup_datetime=datetime.datetime(2017, 6, 1, 0, 12, 7), lpep_dropoff_datetime=datetime.datetime(2017, 6, 1, 0, 12, 7), RatecodeID=1, PULocationID=255, DOLocationID=43, passenger_count=1, trip_distance=9.489999771118164, fare_amount=31.0, extra=0.5, mta_tax=0.5, tip_amount=8.079999923706055, tolls_amount=0.0, improvement_surcharge=0.30000001192092896, total_amount=40.380001068115234, payment_type=1, trip_type=1),\n",
       " Row(VendorID=2, lpep_pickup_datetime=datetime.datetime(2017, 6, 1, 0, 17, 26), lpep_dropoff_datetime=datetime.datetime(2017, 6, 1, 0, 20, 1), RatecodeID=1, PULocationID=256, DOLocationID=256, passenger_count=1, trip_distance=0.5899999737739563, fare_amount=4.0, extra=0.5, mta_tax=0.5, tip_amount=1.059999942779541, tolls_amount=0.0, improvement_surcharge=0.30000001192092896, total_amount=6.360000133514404, payment_type=1, trip_type=1),\n",
       " Row(VendorID=2, lpep_pickup_datetime=datetime.datetime(2017, 6, 1, 0, 17, 22), lpep_dropoff_datetime=datetime.datetime(2017, 6, 1, 0, 24, 21), RatecodeID=1, PULocationID=130, DOLocationID=135, passenger_count=3, trip_distance=2.0799999237060547, fare_amount=8.5, extra=0.5, mta_tax=0.5, tip_amount=0.0, tolls_amount=0.0, improvement_surcharge=0.30000001192092896, total_amount=9.800000190734863, payment_type=2, trip_type=1)]"
      ]
     },
     "execution_count": 15,
     "metadata": {},
     "output_type": "execute_result"
    }
   ],
   "source": [
    "green.take(5)"
   ]
  },
  {
   "cell_type": "markdown",
   "metadata": {
    "collapsed": true
   },
   "source": [
    "#### Since number of passengers are not possibly to be 0, we assigned ‘NA’ to 0 in ‘passenger_count’ column."
   ]
  },
  {
   "cell_type": "code",
   "execution_count": 16,
   "metadata": {
    "collapsed": true
   },
   "outputs": [],
   "source": [
    "from pyspark.sql.functions import when\n",
    "green = green.withColumn(\"passenger_count\", \\\n",
    "              when(green[\"passenger_count\"] == 0, 'NA').otherwise(green[\"passenger_count\"]))"
   ]
  },
  {
   "cell_type": "code",
   "execution_count": 17,
   "metadata": {},
   "outputs": [
    {
     "data": {
      "text/plain": [
       "[Row(VendorID=2, lpep_pickup_datetime=datetime.datetime(2017, 6, 1, 1, 53, 1), lpep_dropoff_datetime=datetime.datetime(2017, 6, 1, 2, 19, 37), RatecodeID=5, PULocationID=74, DOLocationID=132, passenger_count='NA', trip_distance=17.350000381469727, fare_amount=52.0, extra=0.0, mta_tax=0.0, tip_amount=11.550000190734863, tolls_amount=5.760000228881836, improvement_surcharge=0.0, total_amount=69.30999755859375, payment_type=1, trip_type=2),\n",
       " Row(VendorID=2, lpep_pickup_datetime=datetime.datetime(2017, 6, 1, 8, 2, 2), lpep_dropoff_datetime=datetime.datetime(2017, 6, 1, 8, 11, 14), RatecodeID=5, PULocationID=130, DOLocationID=215, passenger_count='NA', trip_distance=1.7400000095367432, fare_amount=15.0, extra=0.0, mta_tax=0.0, tip_amount=0.0, tolls_amount=0.0, improvement_surcharge=0.0, total_amount=15.0, payment_type=2, trip_type=2),\n",
       " Row(VendorID=2, lpep_pickup_datetime=datetime.datetime(2017, 6, 1, 8, 57, 46), lpep_dropoff_datetime=datetime.datetime(2017, 6, 1, 9, 15, 11), RatecodeID=5, PULocationID=205, DOLocationID=121, passenger_count='NA', trip_distance=4.380000114440918, fare_amount=20.0, extra=0.0, mta_tax=0.0, tip_amount=0.0, tolls_amount=0.0, improvement_surcharge=0.0, total_amount=20.0, payment_type=2, trip_type=2),\n",
       " Row(VendorID=2, lpep_pickup_datetime=datetime.datetime(2017, 6, 1, 10, 2, 25), lpep_dropoff_datetime=datetime.datetime(2017, 6, 1, 10, 5, 39), RatecodeID=5, PULocationID=82, DOLocationID=82, passenger_count='NA', trip_distance=0.0, fare_amount=10.5, extra=0.0, mta_tax=0.5, tip_amount=0.0, tolls_amount=0.0, improvement_surcharge=0.30000001192092896, total_amount=11.300000190734863, payment_type=1, trip_type=1),\n",
       " Row(VendorID=2, lpep_pickup_datetime=datetime.datetime(2017, 6, 1, 14, 50, 31), lpep_dropoff_datetime=datetime.datetime(2017, 6, 1, 15, 45, 6), RatecodeID=5, PULocationID=181, DOLocationID=132, passenger_count='NA', trip_distance=9.210000038146973, fare_amount=50.0, extra=0.0, mta_tax=0.0, tip_amount=12.5, tolls_amount=0.0, improvement_surcharge=0.0, total_amount=62.5, payment_type=1, trip_type=2)]"
      ]
     },
     "execution_count": 17,
     "metadata": {},
     "output_type": "execute_result"
    }
   ],
   "source": [
    "green.filter(\"passenger_count = 'NA'\").take(5)"
   ]
  },
  {
   "cell_type": "markdown",
   "metadata": {},
   "source": [
    "#### Create a new column named valid_data and assign default value of 1 - true, then define what is not valid data."
   ]
  },
  {
   "cell_type": "code",
   "execution_count": 18,
   "metadata": {
    "collapsed": true
   },
   "outputs": [],
   "source": [
    "from pyspark.sql.functions import lit\n",
    "green = green.withColumn(\"valid_data\", lit(1))"
   ]
  },
  {
   "cell_type": "code",
   "execution_count": 19,
   "metadata": {},
   "outputs": [
    {
     "data": {
      "text/plain": [
       "[Row(VendorID=2, lpep_pickup_datetime=datetime.datetime(2017, 6, 1, 0, 33, 45), lpep_dropoff_datetime=datetime.datetime(2017, 6, 1, 1, 39, 52), RatecodeID=4, PULocationID=35, DOLocationID=265, passenger_count='1', trip_distance=90.41000366210938, fare_amount=404.5, extra=0.5, mta_tax=0.5, tip_amount=0.0, tolls_amount=5.760000228881836, improvement_surcharge=0.30000001192092896, total_amount=413.510009765625, payment_type=2, trip_type=1, valid_data=1),\n",
       " Row(VendorID=2, lpep_pickup_datetime=datetime.datetime(2017, 6, 1, 0, 33, 55), lpep_dropoff_datetime=datetime.datetime(2017, 6, 1, 23, 36, 23), RatecodeID=1, PULocationID=263, DOLocationID=75, passenger_count='1', trip_distance=0.3799999952316284, fare_amount=4.0, extra=0.5, mta_tax=0.5, tip_amount=1.590000033378601, tolls_amount=0.0, improvement_surcharge=0.30000001192092896, total_amount=6.889999866485596, payment_type=1, trip_type=1, valid_data=1),\n",
       " Row(VendorID=2, lpep_pickup_datetime=datetime.datetime(2017, 6, 1, 0, 12, 7), lpep_dropoff_datetime=datetime.datetime(2017, 6, 1, 0, 12, 7), RatecodeID=1, PULocationID=255, DOLocationID=43, passenger_count='1', trip_distance=9.489999771118164, fare_amount=31.0, extra=0.5, mta_tax=0.5, tip_amount=8.079999923706055, tolls_amount=0.0, improvement_surcharge=0.30000001192092896, total_amount=40.380001068115234, payment_type=1, trip_type=1, valid_data=1),\n",
       " Row(VendorID=2, lpep_pickup_datetime=datetime.datetime(2017, 6, 1, 0, 17, 26), lpep_dropoff_datetime=datetime.datetime(2017, 6, 1, 0, 20, 1), RatecodeID=1, PULocationID=256, DOLocationID=256, passenger_count='1', trip_distance=0.5899999737739563, fare_amount=4.0, extra=0.5, mta_tax=0.5, tip_amount=1.059999942779541, tolls_amount=0.0, improvement_surcharge=0.30000001192092896, total_amount=6.360000133514404, payment_type=1, trip_type=1, valid_data=1),\n",
       " Row(VendorID=2, lpep_pickup_datetime=datetime.datetime(2017, 6, 1, 0, 17, 22), lpep_dropoff_datetime=datetime.datetime(2017, 6, 1, 0, 24, 21), RatecodeID=1, PULocationID=130, DOLocationID=135, passenger_count='3', trip_distance=2.0799999237060547, fare_amount=8.5, extra=0.5, mta_tax=0.5, tip_amount=0.0, tolls_amount=0.0, improvement_surcharge=0.30000001192092896, total_amount=9.800000190734863, payment_type=2, trip_type=1, valid_data=1)]"
      ]
     },
     "execution_count": 19,
     "metadata": {},
     "output_type": "execute_result"
    }
   ],
   "source": [
    "green.take(5)"
   ]
  },
  {
   "cell_type": "markdown",
   "metadata": {},
   "source": [
    "### Delete all the return transactions and corresponding positive-amount transactions."
   ]
  },
  {
   "cell_type": "code",
   "execution_count": 20,
   "metadata": {
    "collapsed": true,
    "scrolled": true
   },
   "outputs": [],
   "source": [
    "green = green.orderBy(['lpep_pickup_datetime','lpep_dropoff_datetime'])"
   ]
  },
  {
   "cell_type": "code",
   "execution_count": 21,
   "metadata": {
    "collapsed": true
   },
   "outputs": [],
   "source": [
    "simul_count = green.groupBy(['lpep_pickup_datetime','lpep_dropoff_datetime']).count()"
   ]
  },
  {
   "cell_type": "code",
   "execution_count": 22,
   "metadata": {},
   "outputs": [
    {
     "data": {
      "text/plain": [
       "[Row(lpep_pickup_datetime=datetime.datetime(2017, 6, 1, 0, 0), lpep_dropoff_datetime=datetime.datetime(2017, 6, 1, 0, 0), count=3)]"
      ]
     },
     "execution_count": 22,
     "metadata": {},
     "output_type": "execute_result"
    }
   ],
   "source": [
    "simul_count.take(1)"
   ]
  },
  {
   "cell_type": "code",
   "execution_count": 23,
   "metadata": {
    "collapsed": true
   },
   "outputs": [],
   "source": [
    "amount_sum = green.groupBy(['lpep_pickup_datetime','lpep_dropoff_datetime']).sum('total_amount')"
   ]
  },
  {
   "cell_type": "code",
   "execution_count": 24,
   "metadata": {},
   "outputs": [
    {
     "data": {
      "text/plain": [
       "[Row(lpep_pickup_datetime=datetime.datetime(2017, 6, 1, 0, 0), lpep_dropoff_datetime=datetime.datetime(2017, 6, 1, 0, 0), sum(total_amount)=63.46000003814697)]"
      ]
     },
     "execution_count": 24,
     "metadata": {},
     "output_type": "execute_result"
    }
   ],
   "source": [
    "amount_sum.take(1)"
   ]
  },
  {
   "cell_type": "code",
   "execution_count": 25,
   "metadata": {
    "collapsed": true
   },
   "outputs": [],
   "source": [
    "green = green.join \\\n",
    "           (simul_count, (green.lpep_pickup_datetime == simul_count.lpep_pickup_datetime) \\\n",
    "            & (green.lpep_dropoff_datetime == simul_count.lpep_dropoff_datetime), 'left') \\\n",
    "           .drop(simul_count.lpep_pickup_datetime).drop(simul_count.lpep_dropoff_datetime)"
   ]
  },
  {
   "cell_type": "code",
   "execution_count": 26,
   "metadata": {},
   "outputs": [
    {
     "data": {
      "text/plain": [
       "[Row(VendorID=2, RatecodeID=1, PULocationID=43, DOLocationID=142, passenger_count='1', trip_distance=2.440000057220459, fare_amount=12.0, extra=0.0, mta_tax=0.5, tip_amount=0.0, tolls_amount=0.0, improvement_surcharge=0.30000001192092896, total_amount=12.800000190734863, payment_type=2, trip_type=1, valid_data=1, lpep_pickup_datetime=datetime.datetime(2017, 6, 1, 0, 0), lpep_dropoff_datetime=datetime.datetime(2017, 6, 1, 0, 0), count=3),\n",
       " Row(VendorID=2, RatecodeID=1, PULocationID=66, DOLocationID=65, passenger_count='1', trip_distance=5.619999885559082, fare_amount=19.5, extra=0.0, mta_tax=0.5, tip_amount=0.0, tolls_amount=0.0, improvement_surcharge=0.30000001192092896, total_amount=20.299999237060547, payment_type=2, trip_type=1, valid_data=1, lpep_pickup_datetime=datetime.datetime(2017, 6, 1, 0, 0), lpep_dropoff_datetime=datetime.datetime(2017, 6, 1, 0, 0), count=3)]"
      ]
     },
     "execution_count": 26,
     "metadata": {},
     "output_type": "execute_result"
    }
   ],
   "source": [
    "green.take(2)"
   ]
  },
  {
   "cell_type": "code",
   "execution_count": 27,
   "metadata": {
    "collapsed": true,
    "scrolled": true
   },
   "outputs": [],
   "source": [
    "green = green.join \\\n",
    "           (amount_sum, (green.lpep_pickup_datetime == amount_sum.lpep_pickup_datetime) \\\n",
    "            & (green.lpep_dropoff_datetime == amount_sum.lpep_dropoff_datetime), 'left')\\\n",
    "           .drop(amount_sum.lpep_pickup_datetime).drop(amount_sum.lpep_dropoff_datetime)"
   ]
  },
  {
   "cell_type": "code",
   "execution_count": 28,
   "metadata": {},
   "outputs": [
    {
     "data": {
      "text/plain": [
       "[Row(VendorID=2, RatecodeID=1, PULocationID=43, DOLocationID=142, passenger_count='1', trip_distance=2.440000057220459, fare_amount=12.0, extra=0.0, mta_tax=0.5, tip_amount=0.0, tolls_amount=0.0, improvement_surcharge=0.30000001192092896, total_amount=12.800000190734863, payment_type=2, trip_type=1, valid_data=1, lpep_pickup_datetime=datetime.datetime(2017, 6, 1, 0, 0), lpep_dropoff_datetime=datetime.datetime(2017, 6, 1, 0, 0), count=3, sum(total_amount)=63.46000003814697),\n",
       " Row(VendorID=2, RatecodeID=1, PULocationID=66, DOLocationID=65, passenger_count='1', trip_distance=5.619999885559082, fare_amount=19.5, extra=0.0, mta_tax=0.5, tip_amount=0.0, tolls_amount=0.0, improvement_surcharge=0.30000001192092896, total_amount=20.299999237060547, payment_type=2, trip_type=1, valid_data=1, lpep_pickup_datetime=datetime.datetime(2017, 6, 1, 0, 0), lpep_dropoff_datetime=datetime.datetime(2017, 6, 1, 0, 0), count=3, sum(total_amount)=63.46000003814697)]"
      ]
     },
     "execution_count": 28,
     "metadata": {},
     "output_type": "execute_result"
    }
   ],
   "source": [
    "green.take(2)"
   ]
  },
  {
   "cell_type": "markdown",
   "metadata": {},
   "source": [
    "#### When extra is not equal to 0, 0.5 or 1 or trip_distance is 0, change valid_data to 0."
   ]
  },
  {
   "cell_type": "code",
   "execution_count": 29,
   "metadata": {
    "collapsed": true,
    "scrolled": true
   },
   "outputs": [],
   "source": [
    "green = green.withColumn(\"valid_data\", \\\n",
    "              when((green[\"extra\"] != 0) & (green[\"extra\"] != 0.5) & (green[\"extra\"] != 1) \\\n",
    "             | (green[\"trip_distance\"] == 0) \\\n",
    "             | (green[\"lpep_pickup_datetime\"] == green[\"lpep_dropoff_datetime\"])\n",
    "             | ((green[\"count\"] == 2) & (green[\"sum(total_amount)\"] == 0)), 0) \\\n",
    "             .otherwise(green[\"valid_data\"]))"
   ]
  },
  {
   "cell_type": "markdown",
   "metadata": {},
   "source": [
    "#### Verify that valid data is correct."
   ]
  },
  {
   "cell_type": "code",
   "execution_count": 30,
   "metadata": {},
   "outputs": [
    {
     "data": {
      "text/plain": [
       "[]"
      ]
     },
     "execution_count": 30,
     "metadata": {},
     "output_type": "execute_result"
    }
   ],
   "source": [
    "green.filter('(trip_distance = 0 \\\n",
    "              or extra not in (0, 0.5, 1) \\\n",
    "              or (count = 2 and total_amount = 0) \\\n",
    "              or lpep_pickup_datetime = lpep_dropoff_datetime)\\\n",
    "              and valid_data = 1').take(1)"
   ]
  },
  {
   "cell_type": "markdown",
   "metadata": {},
   "source": [
    "There is not value, meaning that our wrangling is correct."
   ]
  },
  {
   "cell_type": "markdown",
   "metadata": {
    "collapsed": true
   },
   "source": [
    "## Part 3: Analysis"
   ]
  },
  {
   "cell_type": "markdown",
   "metadata": {},
   "source": [
    "Spark -> SQL"
   ]
  },
  {
   "cell_type": "code",
   "execution_count": 31,
   "metadata": {
    "collapsed": true
   },
   "outputs": [],
   "source": [
    "green.createOrReplaceTempView(\"green\")"
   ]
  },
  {
   "cell_type": "code",
   "execution_count": 32,
   "metadata": {
    "scrolled": true
   },
   "outputs": [
    {
     "name": "stdout",
     "output_type": "stream",
     "text": [
      "+--------------------+---------------------+----------+\n",
      "|lpep_pickup_datetime|lpep_dropoff_datetime|valid_data|\n",
      "+--------------------+---------------------+----------+\n",
      "| 2017-06-01 00:00:00|  2017-06-01 00:00:00|         0|\n",
      "| 2017-06-01 00:00:00|  2017-06-01 00:00:00|         0|\n",
      "| 2017-06-01 00:00:00|  2017-06-01 00:00:00|         0|\n",
      "| 2017-06-01 00:07:13|  2017-06-01 00:07:13|         0|\n",
      "| 2017-06-01 00:12:07|  2017-06-01 00:12:07|         0|\n",
      "| 2017-06-01 02:35:17|  2017-06-01 02:35:17|         0|\n",
      "| 2017-06-01 05:48:34|  2017-06-01 05:48:34|         0|\n",
      "| 2017-06-01 08:14:15|  2017-06-01 08:14:15|         0|\n",
      "| 2017-06-01 08:40:05|  2017-06-01 08:40:05|         0|\n",
      "| 2017-06-01 08:57:23|  2017-06-01 08:57:23|         0|\n",
      "+--------------------+---------------------+----------+\n",
      "\n"
     ]
    }
   ],
   "source": [
    "sqlc.sql(\"\"\"\n",
    "    SELECT lpep_pickup_datetime, lpep_dropoff_datetime, valid_data\n",
    "    FROM green\n",
    "    WHERE lpep_pickup_datetime = lpep_dropoff_datetime\n",
    "    LIMIT 10\n",
    "\"\"\").show()"
   ]
  },
  {
   "cell_type": "markdown",
   "metadata": {},
   "source": [
    "### Bring a new dataset into our analysis - location"
   ]
  },
  {
   "cell_type": "markdown",
   "metadata": {},
   "source": [
    "Because there are only IDs of location in the taxi data, we will bring data of location in to help our analysis. "
   ]
  },
  {
   "cell_type": "code",
   "execution_count": 33,
   "metadata": {},
   "outputs": [
    {
     "name": "stdout",
     "output_type": "stream",
     "text": [
      "--2017-12-07 23:38:01--  https://s3.amazonaws.com/nyc-tlc/misc/taxi+_zone_lookup.csv\r\n",
      "Resolving s3.amazonaws.com (s3.amazonaws.com)... 54.231.98.203\r\n",
      "Connecting to s3.amazonaws.com (s3.amazonaws.com)|54.231.98.203|:443... connected.\r\n",
      "HTTP request sent, awaiting response... 200 OK\r\n",
      "Length: 12322 (12K) [application/octet-stream]\r\n",
      "Saving to: ‘taxi+_zone_lookup.csv’\r\n",
      "\r\n",
      "\r",
      "taxi+_zone_lookup.c   0%[                    ]       0  --.-KB/s               \r",
      "taxi+_zone_lookup.c 100%[===================>]  12.03K  --.-KB/s    in 0s      \r\n",
      "\r\n",
      "2017-12-07 23:38:01 (281 MB/s) - ‘taxi+_zone_lookup.csv’ saved [12322/12322]\r\n",
      "\r\n"
     ]
    }
   ],
   "source": [
    "!wget https://s3.amazonaws.com/nyc-tlc/misc/taxi+_zone_lookup.csv"
   ]
  },
  {
   "cell_type": "code",
   "execution_count": 34,
   "metadata": {
    "collapsed": true
   },
   "outputs": [],
   "source": [
    "!mv taxi+_zone_lookup.csv location.csv"
   ]
  },
  {
   "cell_type": "code",
   "execution_count": 35,
   "metadata": {
    "scrolled": true
   },
   "outputs": [
    {
     "name": "stdout",
     "output_type": "stream",
     "text": [
      "|-------------+---------------+-------------------------+---------------|\r\n",
      "|  LocationID | Borough       | Zone                    | service_zone  |\r\n",
      "|-------------+---------------+-------------------------+---------------|\r\n",
      "|  1          | EWR           | Newark Airport          | EWR           |\r\n",
      "|  2          | Queens        | Jamaica Bay             | Boro Zone     |\r\n",
      "|  3          | Bronx         | Allerton/Pelham Gardens | Boro Zone     |\r\n",
      "|  4          | Manhattan     | Alphabet City           | Yellow Zone   |\r\n",
      "|  5          | Staten Island | Arden Heights           | Boro Zone     |\r\n",
      "|  6          | Staten Island | Arrochar/Fort Wadsworth | Boro Zone     |\r\n",
      "|  7          | Queens        | Astoria                 | Boro Zone     |\r\n",
      "|  8          | Queens        | Astoria Park            | Boro Zone     |\r\n",
      "|  9          | Queens        | Auburndale              | Boro Zone     |\r\n",
      "|-------------+---------------+-------------------------+---------------|\r\n"
     ]
    }
   ],
   "source": [
    "!head location.csv | csvlook"
   ]
  },
  {
   "cell_type": "code",
   "execution_count": 36,
   "metadata": {
    "scrolled": true
   },
   "outputs": [
    {
     "name": "stdout",
     "output_type": "stream",
     "text": [
      "  1. LocationID\r\n",
      "\t<class 'int'>\r\n",
      "\tNulls: False\r\n",
      "\tMin: 1\r\n",
      "\tMax: 265\r\n",
      "\tSum: 35245\r\n",
      "\tMean: 133.0\r\n",
      "\tMedian: 133\r\n",
      "\tStandard Deviation: 76.49836599562111\r\n",
      "\tUnique values: 265\r\n",
      "  2. Borough\r\n",
      "\t<class 'str'>\r\n",
      "\tNulls: False\r\n",
      "\tUnique values: 7\r\n",
      "\t5 most frequent values:\r\n",
      "\t\tManhattan:\t69\r\n",
      "\t\tQueens:\t69\r\n",
      "\t\tBrooklyn:\t61\r\n",
      "\t\tBronx:\t43\r\n",
      "\t\tStaten Island:\t20\r\n",
      "\tMax length: 13\r\n",
      "  3. Zone\r\n",
      "\t<class 'str'>\r\n",
      "\tNulls: True\r\n",
      "\tUnique values: 261\r\n",
      "\t5 most frequent values:\r\n",
      "\t\tGovernor's Island/Ellis Island/Liberty Island:\t3\r\n",
      "\t\tCorona:\t2\r\n",
      "\t\tLenox Hill East:\t1\r\n",
      "\t\tUnion Sq:\t1\r\n",
      "\t\tMott Haven/Port Morris:\t1\r\n",
      "\tMax length: 45\r\n",
      "  4. service_zone\r\n",
      "\t<class 'str'>\r\n",
      "\tNulls: True\r\n",
      "\tValues: Airports, Yellow Zone, Boro Zone, EWR\r\n",
      "\r\n",
      "Row count: 265\r\n"
     ]
    }
   ],
   "source": [
    "!csvstat location.csv"
   ]
  },
  {
   "cell_type": "markdown",
   "metadata": {},
   "source": [
    "As results above show, there are four columns in the data of location, with information of borough, zone and service zone. Using Ids of locations, we are able to match data of taxi and data of locations. And we will create a spark sql for location."
   ]
  },
  {
   "cell_type": "code",
   "execution_count": 37,
   "metadata": {},
   "outputs": [
    {
     "data": {
      "text/plain": [
       "265"
      ]
     },
     "execution_count": 37,
     "metadata": {},
     "output_type": "execute_result"
    }
   ],
   "source": [
    "location = sqlc.read.format(\"csv\").option(\"header\", \"true\").load(\"location.csv\")\n",
    "location.count()"
   ]
  },
  {
   "cell_type": "code",
   "execution_count": 38,
   "metadata": {
    "collapsed": true
   },
   "outputs": [],
   "source": [
    "location.createOrReplaceTempView(\"location\")"
   ]
  },
  {
   "cell_type": "code",
   "execution_count": 39,
   "metadata": {
    "scrolled": false
   },
   "outputs": [
    {
     "name": "stdout",
     "output_type": "stream",
     "text": [
      "+----------+-------------+--------------------+------------+\n",
      "|LocationID|      Borough|                Zone|service_zone|\n",
      "+----------+-------------+--------------------+------------+\n",
      "|         1|          EWR|      Newark Airport|         EWR|\n",
      "|         2|       Queens|         Jamaica Bay|   Boro Zone|\n",
      "|         3|        Bronx|Allerton/Pelham G...|   Boro Zone|\n",
      "|         4|    Manhattan|       Alphabet City| Yellow Zone|\n",
      "|         5|Staten Island|       Arden Heights|   Boro Zone|\n",
      "+----------+-------------+--------------------+------------+\n",
      "only showing top 5 rows\n",
      "\n"
     ]
    }
   ],
   "source": [
    "sqlc.sql('select * from location').show(5)"
   ]
  },
  {
   "cell_type": "markdown",
   "metadata": {},
   "source": [
    "We designed schema as below."
   ]
  },
  {
   "attachments": {
    "image.png": {
     "image/png": "[encoded data removed]"
    }
   },
   "cell_type": "markdown",
   "metadata": {},
   "source": [
    "![image.png](attachment:image.png)"
   ]
  },
  {
   "cell_type": "markdown",
   "metadata": {},
   "source": [
    "We create our schema by Spark as below."
   ]
  },
  {
   "cell_type": "code",
   "execution_count": 40,
   "metadata": {},
   "outputs": [
    {
     "name": "stdout",
     "output_type": "stream",
     "text": [
      "root\n",
      " |-- VendorID: integer (nullable = true)\n",
      " |-- RatecodeID: integer (nullable = true)\n",
      " |-- PULocationID: integer (nullable = true)\n",
      " |-- DOLocationID: integer (nullable = true)\n",
      " |-- passenger_count: string (nullable = true)\n",
      " |-- trip_distance: float (nullable = true)\n",
      " |-- fare_amount: float (nullable = true)\n",
      " |-- extra: float (nullable = true)\n",
      " |-- mta_tax: float (nullable = true)\n",
      " |-- tip_amount: float (nullable = true)\n",
      " |-- tolls_amount: float (nullable = true)\n",
      " |-- improvement_surcharge: float (nullable = true)\n",
      " |-- total_amount: float (nullable = true)\n",
      " |-- payment_type: integer (nullable = true)\n",
      " |-- trip_type: integer (nullable = true)\n",
      " |-- valid_data: integer (nullable = false)\n",
      " |-- lpep_pickup_datetime: timestamp (nullable = true)\n",
      " |-- lpep_dropoff_datetime: timestamp (nullable = true)\n",
      " |-- count: long (nullable = true)\n",
      " |-- sum(total_amount): double (nullable = true)\n",
      "\n"
     ]
    }
   ],
   "source": [
    "green.printSchema()"
   ]
  },
  {
   "cell_type": "code",
   "execution_count": 41,
   "metadata": {},
   "outputs": [
    {
     "name": "stdout",
     "output_type": "stream",
     "text": [
      "root\n",
      " |-- LocationID: string (nullable = true)\n",
      " |-- Borough: string (nullable = true)\n",
      " |-- Zone: string (nullable = true)\n",
      " |-- service_zone: string (nullable = true)\n",
      "\n"
     ]
    }
   ],
   "source": [
    "location.printSchema()"
   ]
  },
  {
   "cell_type": "markdown",
   "metadata": {},
   "source": [
    "### Question 1: Top 10 popular pick up & drop off locations"
   ]
  },
  {
   "cell_type": "markdown",
   "metadata": {},
   "source": [
    "#### Pick up"
   ]
  },
  {
   "cell_type": "markdown",
   "metadata": {},
   "source": [
    "Through spark sql, we extract data of top 10 pick-up locations and counts of rides from them."
   ]
  },
  {
   "cell_type": "code",
   "execution_count": 42,
   "metadata": {
    "collapsed": true
   },
   "outputs": [],
   "source": [
    "PU_location = sqlc.sql('''\n",
    "SELECT green.PULocationID, location.Borough, location.Zone, count(1) AS PU_count\n",
    "FROM green\n",
    "JOIN location\n",
    "ON green.PULocationID = location.LocationID\n",
    "WHERE valid_data = 1\n",
    "GROUP BY green.PULocationID, location.Borough, location.Zone\n",
    "ORDER BY PU_count DESC\n",
    "LIMIT 10\n",
    "''')"
   ]
  },
  {
   "cell_type": "code",
   "execution_count": 43,
   "metadata": {
    "collapsed": true
   },
   "outputs": [],
   "source": [
    "import pandas as pd"
   ]
  },
  {
   "cell_type": "code",
   "execution_count": 44,
   "metadata": {
    "collapsed": true
   },
   "outputs": [],
   "source": [
    "#PySpark faster toPandas using mapPartitions\n",
    "#https://gist.github.com/joshlk/871d58e01417478176e7\n",
    "def _map_to_pandas(rdds):\n",
    "    \"\"\" Needs to be here due to pickling issues \"\"\"\n",
    "    return [pd.DataFrame(list(rdds))]\n",
    "\n",
    "def toPandas(df, n_partitions=None):\n",
    "    \"\"\"\n",
    "    Returns the contents of `df` as a local `pandas.DataFrame` in a speedy fashion. The DataFrame is\n",
    "    repartitioned if `n_partitions` is passed.\n",
    "    :param df:              pyspark.sql.DataFrame\n",
    "    :param n_partitions:    int or None\n",
    "    :return:                pandas.DataFrame\n",
    "    \"\"\"\n",
    "    if n_partitions is not None: df = df.repartition(n_partitions)\n",
    "    df_pand = df.rdd.mapPartitions(_map_to_pandas).collect()\n",
    "    df_pand = pd.concat(df_pand)\n",
    "    df_pand.columns = df.columns\n",
    "    return df_pand"
   ]
  },
  {
   "cell_type": "code",
   "execution_count": 45,
   "metadata": {
    "collapsed": true
   },
   "outputs": [],
   "source": [
    "PU_bar = toPandas(PU_location)"
   ]
  },
  {
   "cell_type": "code",
   "execution_count": 46,
   "metadata": {},
   "outputs": [
    {
     "data": {
      "text/html": [
       "<div>\n",
       "<style>\n",
       "    .dataframe thead tr:only-child th {\n",
       "        text-align: right;\n",
       "    }\n",
       "\n",
       "    .dataframe thead th {\n",
       "        text-align: left;\n",
       "    }\n",
       "\n",
       "    .dataframe tbody tr th {\n",
       "        vertical-align: top;\n",
       "    }\n",
       "</style>\n",
       "<table border=\"1\" class=\"dataframe\">\n",
       "  <thead>\n",
       "    <tr style=\"text-align: right;\">\n",
       "      <th></th>\n",
       "      <th>PULocationID</th>\n",
       "      <th>Borough</th>\n",
       "      <th>Zone</th>\n",
       "      <th>PU_count</th>\n",
       "    </tr>\n",
       "  </thead>\n",
       "  <tbody>\n",
       "    <tr>\n",
       "      <th>0</th>\n",
       "      <td>74</td>\n",
       "      <td>Manhattan</td>\n",
       "      <td>East Harlem North</td>\n",
       "      <td>59573</td>\n",
       "    </tr>\n",
       "    <tr>\n",
       "      <th>1</th>\n",
       "      <td>41</td>\n",
       "      <td>Manhattan</td>\n",
       "      <td>Central Harlem</td>\n",
       "      <td>54593</td>\n",
       "    </tr>\n",
       "    <tr>\n",
       "      <th>2</th>\n",
       "      <td>75</td>\n",
       "      <td>Manhattan</td>\n",
       "      <td>East Harlem South</td>\n",
       "      <td>52065</td>\n",
       "    </tr>\n",
       "    <tr>\n",
       "      <th>3</th>\n",
       "      <td>7</td>\n",
       "      <td>Queens</td>\n",
       "      <td>Astoria</td>\n",
       "      <td>50158</td>\n",
       "    </tr>\n",
       "    <tr>\n",
       "      <th>4</th>\n",
       "      <td>82</td>\n",
       "      <td>Queens</td>\n",
       "      <td>Elmhurst</td>\n",
       "      <td>42921</td>\n",
       "    </tr>\n",
       "    <tr>\n",
       "      <th>5</th>\n",
       "      <td>255</td>\n",
       "      <td>Brooklyn</td>\n",
       "      <td>Williamsburg (North Side)</td>\n",
       "      <td>35897</td>\n",
       "    </tr>\n",
       "    <tr>\n",
       "      <th>6</th>\n",
       "      <td>166</td>\n",
       "      <td>Manhattan</td>\n",
       "      <td>Morningside Heights</td>\n",
       "      <td>35462</td>\n",
       "    </tr>\n",
       "    <tr>\n",
       "      <th>7</th>\n",
       "      <td>42</td>\n",
       "      <td>Manhattan</td>\n",
       "      <td>Central Harlem North</td>\n",
       "      <td>34317</td>\n",
       "    </tr>\n",
       "    <tr>\n",
       "      <th>8</th>\n",
       "      <td>181</td>\n",
       "      <td>Brooklyn</td>\n",
       "      <td>Park Slope</td>\n",
       "      <td>32795</td>\n",
       "    </tr>\n",
       "    <tr>\n",
       "      <th>9</th>\n",
       "      <td>97</td>\n",
       "      <td>Brooklyn</td>\n",
       "      <td>Fort Greene</td>\n",
       "      <td>29405</td>\n",
       "    </tr>\n",
       "  </tbody>\n",
       "</table>\n",
       "</div>"
      ],
      "text/plain": [
       "   PULocationID    Borough                       Zone  PU_count\n",
       "0            74  Manhattan          East Harlem North     59573\n",
       "1            41  Manhattan             Central Harlem     54593\n",
       "2            75  Manhattan          East Harlem South     52065\n",
       "3             7     Queens                    Astoria     50158\n",
       "4            82     Queens                   Elmhurst     42921\n",
       "5           255   Brooklyn  Williamsburg (North Side)     35897\n",
       "6           166  Manhattan        Morningside Heights     35462\n",
       "7            42  Manhattan       Central Harlem North     34317\n",
       "8           181   Brooklyn                 Park Slope     32795\n",
       "9            97   Brooklyn                Fort Greene     29405"
      ]
     },
     "execution_count": 46,
     "metadata": {},
     "output_type": "execute_result"
    }
   ],
   "source": [
    "PU_bar"
   ]
  },
  {
   "cell_type": "markdown",
   "metadata": {},
   "source": [
    "Draw bar chart"
   ]
  },
  {
   "cell_type": "markdown",
   "metadata": {},
   "source": [
    "The pandas and matplotlib enable us to draw bar chart of top 10 pick-up location."
   ]
  },
  {
   "cell_type": "code",
   "execution_count": 47,
   "metadata": {
    "collapsed": true
   },
   "outputs": [],
   "source": [
    "import matplotlib.pyplot as plt\n",
    "import numpy as np\n",
    "%matplotlib inline"
   ]
  },
  {
   "cell_type": "markdown",
   "metadata": {},
   "source": [
    "The bar charts indicates that there is little difference between contiguous locations, but rides from the first location East Harlem North is almost twice as many as ones from the last location Fort Greene."
   ]
  },
  {
   "cell_type": "code",
   "execution_count": 48,
   "metadata": {},
   "outputs": [
    {
     "data": {
      "text/plain": [
       "<matplotlib.figure.Figure at 0x7f4b43a652b0>"
      ]
     },
     "metadata": {},
     "output_type": "display_data"
    },
    {
     "data": {
      "image/png": "[encoded data removed]",
      "text/plain": [
       "<matplotlib.figure.Figure at 0x7f4b43a65278>"
      ]
     },
     "metadata": {},
     "output_type": "display_data"
    }
   ],
   "source": [
    "plt.clf()\n",
    "fig = plt.figure(figsize=[12,8])\n",
    "ax2=fig.add_subplot(1,1,1)\n",
    "ax2.set(title = 'Top 10 Pick-Up Location', xlabel='Location', ylabel='Number')\n",
    "_ = ax2.bar(np.arange(len(PU_bar)), height=np.array(PU_bar['PU_count']),width=0.8)\n",
    "ax2.set_xticks(np.arange(len(PU_bar)))\n",
    "ax2.set_xticklabels(PU_bar['Zone'])\n",
    "for tick in ax2.get_xticklabels():\n",
    "    tick.set_rotation(30)\n",
    "plt.show()"
   ]
  },
  {
   "cell_type": "markdown",
   "metadata": {},
   "source": [
    "#### Drop off"
   ]
  },
  {
   "cell_type": "markdown",
   "metadata": {},
   "source": [
    "Through spark sql, we extract data of top 10 drop-off locations and counts of rides to them."
   ]
  },
  {
   "cell_type": "code",
   "execution_count": 49,
   "metadata": {
    "collapsed": true,
    "scrolled": true
   },
   "outputs": [],
   "source": [
    "DO_location = sqlc.sql('''\n",
    "SELECT green.DOLocationID, location.Borough, location.Zone, count(1) AS DO_count\n",
    "FROM green\n",
    "JOIN location\n",
    "ON green.DOLocationID = location.LocationID\n",
    "WHERE valid_data = 1\n",
    "GROUP BY green.DOLocationID, location.Borough, location.Zone\n",
    "ORDER BY DO_count DESC\n",
    "LIMIT 10\n",
    "''')"
   ]
  },
  {
   "cell_type": "code",
   "execution_count": 50,
   "metadata": {
    "collapsed": true
   },
   "outputs": [],
   "source": [
    "DO_bar = toPandas(DO_location)"
   ]
  },
  {
   "cell_type": "code",
   "execution_count": 51,
   "metadata": {},
   "outputs": [
    {
     "data": {
      "text/html": [
       "<div>\n",
       "<style>\n",
       "    .dataframe thead tr:only-child th {\n",
       "        text-align: right;\n",
       "    }\n",
       "\n",
       "    .dataframe thead th {\n",
       "        text-align: left;\n",
       "    }\n",
       "\n",
       "    .dataframe tbody tr th {\n",
       "        vertical-align: top;\n",
       "    }\n",
       "</style>\n",
       "<table border=\"1\" class=\"dataframe\">\n",
       "  <thead>\n",
       "    <tr style=\"text-align: right;\">\n",
       "      <th></th>\n",
       "      <th>DOLocationID</th>\n",
       "      <th>Borough</th>\n",
       "      <th>Zone</th>\n",
       "      <th>DO_count</th>\n",
       "    </tr>\n",
       "  </thead>\n",
       "  <tbody>\n",
       "    <tr>\n",
       "      <th>0</th>\n",
       "      <td>74</td>\n",
       "      <td>Manhattan</td>\n",
       "      <td>East Harlem North</td>\n",
       "      <td>32699</td>\n",
       "    </tr>\n",
       "    <tr>\n",
       "      <th>1</th>\n",
       "      <td>42</td>\n",
       "      <td>Manhattan</td>\n",
       "      <td>Central Harlem North</td>\n",
       "      <td>31720</td>\n",
       "    </tr>\n",
       "    <tr>\n",
       "      <th>2</th>\n",
       "      <td>7</td>\n",
       "      <td>Queens</td>\n",
       "      <td>Astoria</td>\n",
       "      <td>30697</td>\n",
       "    </tr>\n",
       "    <tr>\n",
       "      <th>3</th>\n",
       "      <td>41</td>\n",
       "      <td>Manhattan</td>\n",
       "      <td>Central Harlem</td>\n",
       "      <td>28581</td>\n",
       "    </tr>\n",
       "    <tr>\n",
       "      <th>4</th>\n",
       "      <td>129</td>\n",
       "      <td>Queens</td>\n",
       "      <td>Jackson Heights</td>\n",
       "      <td>27642</td>\n",
       "    </tr>\n",
       "    <tr>\n",
       "      <th>5</th>\n",
       "      <td>181</td>\n",
       "      <td>Brooklyn</td>\n",
       "      <td>Park Slope</td>\n",
       "      <td>24689</td>\n",
       "    </tr>\n",
       "    <tr>\n",
       "      <th>6</th>\n",
       "      <td>75</td>\n",
       "      <td>Manhattan</td>\n",
       "      <td>East Harlem South</td>\n",
       "      <td>20728</td>\n",
       "    </tr>\n",
       "    <tr>\n",
       "      <th>7</th>\n",
       "      <td>82</td>\n",
       "      <td>Queens</td>\n",
       "      <td>Elmhurst</td>\n",
       "      <td>19403</td>\n",
       "    </tr>\n",
       "    <tr>\n",
       "      <th>8</th>\n",
       "      <td>223</td>\n",
       "      <td>Queens</td>\n",
       "      <td>Steinway</td>\n",
       "      <td>17838</td>\n",
       "    </tr>\n",
       "    <tr>\n",
       "      <th>9</th>\n",
       "      <td>166</td>\n",
       "      <td>Manhattan</td>\n",
       "      <td>Morningside Heights</td>\n",
       "      <td>16970</td>\n",
       "    </tr>\n",
       "  </tbody>\n",
       "</table>\n",
       "</div>"
      ],
      "text/plain": [
       "   DOLocationID    Borough                  Zone  DO_count\n",
       "0            74  Manhattan     East Harlem North     32699\n",
       "1            42  Manhattan  Central Harlem North     31720\n",
       "2             7     Queens               Astoria     30697\n",
       "3            41  Manhattan        Central Harlem     28581\n",
       "4           129     Queens       Jackson Heights     27642\n",
       "5           181   Brooklyn            Park Slope     24689\n",
       "6            75  Manhattan     East Harlem South     20728\n",
       "7            82     Queens              Elmhurst     19403\n",
       "8           223     Queens              Steinway     17838\n",
       "9           166  Manhattan   Morningside Heights     16970"
      ]
     },
     "execution_count": 51,
     "metadata": {},
     "output_type": "execute_result"
    }
   ],
   "source": [
    "DO_bar"
   ]
  },
  {
   "cell_type": "markdown",
   "metadata": {},
   "source": [
    "Draw bar chart"
   ]
  },
  {
   "cell_type": "markdown",
   "metadata": {},
   "source": [
    "Like the previous pick-up locations bar chart, there is little difference between contiguous locations, but rides to the first location East Harlem North is almost twice as many as ones to the last location Morningsides Heights."
   ]
  },
  {
   "cell_type": "code",
   "execution_count": 52,
   "metadata": {},
   "outputs": [
    {
     "data": {
      "text/plain": [
       "<matplotlib.figure.Figure at 0x7f4b439c65c0>"
      ]
     },
     "metadata": {},
     "output_type": "display_data"
    },
    {
     "data": {
      "image/png": "[encoded data removed]",
      "text/plain": [
       "<matplotlib.figure.Figure at 0x7f4b439c6588>"
      ]
     },
     "metadata": {},
     "output_type": "display_data"
    }
   ],
   "source": [
    "plt.clf()\n",
    "fig = plt.figure(figsize=[12,8])\n",
    "ax2=fig.add_subplot(1,1,1)\n",
    "ax2.set(title = 'Top 10 Drop-Off Location', xlabel='Location', ylabel='Number')\n",
    "_ = ax2.bar(np.arange(len(DO_bar)), height=np.array(DO_bar['DO_count']),width=0.8)\n",
    "ax2.set_xticks(np.arange(len(DO_bar)))\n",
    "ax2.set_xticklabels(DO_bar['Zone'])\n",
    "for tick in ax2.get_xticklabels():\n",
    "    tick.set_rotation(30)\n",
    "plt.show()"
   ]
  },
  {
   "cell_type": "markdown",
   "metadata": {},
   "source": [
    "### Question 2: The relationship of pick-up and drop-off locations - heat map"
   ]
  },
  {
   "cell_type": "markdown",
   "metadata": {},
   "source": [
    "Based on previous results, we hope to explore the relationship between pick-up locations and drop-off locations in Heat Map"
   ]
  },
  {
   "cell_type": "code",
   "execution_count": 53,
   "metadata": {
    "collapsed": true
   },
   "outputs": [],
   "source": [
    "heat_map = sqlc.sql('''\n",
    "SELECT PULocationID, DOLocationID, A.Borough AS PU_Borough, A.Zone AS PU_Zone, B.Borough AS DO_Borough, B.Zone AS DO_Zone, \n",
    "       count(1) AS route_count, round(avg(trip_distance), 2) AS trip, \n",
    "       round((avg(lpep_dropoff_datetime) - avg(lpep_pickup_datetime))/60, 2) AS time\n",
    "FROM green\n",
    "JOIN location AS A\n",
    "ON green.PULocationID = A.LocationID\n",
    "JOIN location AS B\n",
    "ON green.DOLocationID = B.LocationID\n",
    "WHERE valid_data = 1\n",
    "AND PULocationID in\n",
    "(\n",
    "SELECT PULocationID\n",
    "FROM\n",
    "(\n",
    "SELECT green.PULocationID, location.Borough, location.Zone, count(1) AS PU_count\n",
    "FROM green\n",
    "JOIN location\n",
    "ON green.PULocationID = location.LocationID\n",
    "WHERE valid_data = 1\n",
    "GROUP BY green.PULocationID, location.Borough, location.Zone\n",
    "ORDER BY PU_count DESC\n",
    "LIMIT 10\n",
    "))\n",
    "AND DOLocationID in\n",
    "(\n",
    "SELECT DOLocationID\n",
    "FROM\n",
    "(\n",
    "SELECT green.DOLocationID, location.Borough, location.Zone, count(1) AS DO_count\n",
    "FROM green\n",
    "JOIN location\n",
    "ON green.DOLocationID = location.LocationID\n",
    "WHERE valid_data = 1\n",
    "GROUP BY green.DOLocationID, location.Borough, location.Zone\n",
    "ORDER BY DO_count DESC\n",
    "LIMIT 10\n",
    "))\n",
    "GROUP BY PULocationID, DOLocationID, PU_Borough, PU_Zone, DO_Borough, DO_Zone\n",
    "ORDER BY route_count DESC\n",
    "''')"
   ]
  },
  {
   "cell_type": "code",
   "execution_count": 54,
   "metadata": {
    "collapsed": true
   },
   "outputs": [],
   "source": [
    "heat_map = toPandas(heat_map)"
   ]
  },
  {
   "cell_type": "code",
   "execution_count": 55,
   "metadata": {
    "collapsed": true
   },
   "outputs": [],
   "source": [
    "heat_map2 = heat_map[['PU_Zone', 'DO_Zone', 'route_count']].pivot_table(index = 'PU_Zone', columns = 'DO_Zone',\n",
    "                                                                        values = 'route_count')"
   ]
  },
  {
   "cell_type": "code",
   "execution_count": 56,
   "metadata": {
    "scrolled": true
   },
   "outputs": [
    {
     "data": {
      "text/html": [
       "<div>\n",
       "<style>\n",
       "    .dataframe thead tr:only-child th {\n",
       "        text-align: right;\n",
       "    }\n",
       "\n",
       "    .dataframe thead th {\n",
       "        text-align: left;\n",
       "    }\n",
       "\n",
       "    .dataframe tbody tr th {\n",
       "        vertical-align: top;\n",
       "    }\n",
       "</style>\n",
       "<table border=\"1\" class=\"dataframe\">\n",
       "  <thead>\n",
       "    <tr style=\"text-align: right;\">\n",
       "      <th>DO_Zone</th>\n",
       "      <th>Astoria</th>\n",
       "      <th>Central Harlem</th>\n",
       "      <th>Central Harlem North</th>\n",
       "      <th>East Harlem North</th>\n",
       "      <th>East Harlem South</th>\n",
       "      <th>Elmhurst</th>\n",
       "      <th>Jackson Heights</th>\n",
       "      <th>Morningside Heights</th>\n",
       "      <th>Park Slope</th>\n",
       "      <th>Steinway</th>\n",
       "    </tr>\n",
       "    <tr>\n",
       "      <th>PU_Zone</th>\n",
       "      <th></th>\n",
       "      <th></th>\n",
       "      <th></th>\n",
       "      <th></th>\n",
       "      <th></th>\n",
       "      <th></th>\n",
       "      <th></th>\n",
       "      <th></th>\n",
       "      <th></th>\n",
       "      <th></th>\n",
       "    </tr>\n",
       "  </thead>\n",
       "  <tbody>\n",
       "    <tr>\n",
       "      <th>Astoria</th>\n",
       "      <td>13360</td>\n",
       "      <td>48</td>\n",
       "      <td>47</td>\n",
       "      <td>90</td>\n",
       "      <td>122</td>\n",
       "      <td>966</td>\n",
       "      <td>2930</td>\n",
       "      <td>31</td>\n",
       "      <td>32</td>\n",
       "      <td>6571</td>\n",
       "    </tr>\n",
       "    <tr>\n",
       "      <th>Central Harlem</th>\n",
       "      <td>67</td>\n",
       "      <td>6443</td>\n",
       "      <td>9453</td>\n",
       "      <td>6950</td>\n",
       "      <td>2930</td>\n",
       "      <td>11</td>\n",
       "      <td>29</td>\n",
       "      <td>3391</td>\n",
       "      <td>14</td>\n",
       "      <td>58</td>\n",
       "    </tr>\n",
       "    <tr>\n",
       "      <th>Central Harlem North</th>\n",
       "      <td>23</td>\n",
       "      <td>5478</td>\n",
       "      <td>6887</td>\n",
       "      <td>3211</td>\n",
       "      <td>1161</td>\n",
       "      <td>4</td>\n",
       "      <td>10</td>\n",
       "      <td>1428</td>\n",
       "      <td>5</td>\n",
       "      <td>19</td>\n",
       "    </tr>\n",
       "    <tr>\n",
       "      <th>East Harlem North</th>\n",
       "      <td>154</td>\n",
       "      <td>6008</td>\n",
       "      <td>4698</td>\n",
       "      <td>6068</td>\n",
       "      <td>7364</td>\n",
       "      <td>25</td>\n",
       "      <td>47</td>\n",
       "      <td>3056</td>\n",
       "      <td>16</td>\n",
       "      <td>111</td>\n",
       "    </tr>\n",
       "    <tr>\n",
       "      <th>East Harlem South</th>\n",
       "      <td>128</td>\n",
       "      <td>3558</td>\n",
       "      <td>2246</td>\n",
       "      <td>9741</td>\n",
       "      <td>5358</td>\n",
       "      <td>56</td>\n",
       "      <td>85</td>\n",
       "      <td>1322</td>\n",
       "      <td>24</td>\n",
       "      <td>79</td>\n",
       "    </tr>\n",
       "    <tr>\n",
       "      <th>Elmhurst</th>\n",
       "      <td>1201</td>\n",
       "      <td>10</td>\n",
       "      <td>18</td>\n",
       "      <td>32</td>\n",
       "      <td>69</td>\n",
       "      <td>7065</td>\n",
       "      <td>7508</td>\n",
       "      <td>11</td>\n",
       "      <td>11</td>\n",
       "      <td>525</td>\n",
       "    </tr>\n",
       "    <tr>\n",
       "      <th>Fort Greene</th>\n",
       "      <td>43</td>\n",
       "      <td>10</td>\n",
       "      <td>11</td>\n",
       "      <td>9</td>\n",
       "      <td>15</td>\n",
       "      <td>24</td>\n",
       "      <td>26</td>\n",
       "      <td>13</td>\n",
       "      <td>1652</td>\n",
       "      <td>23</td>\n",
       "    </tr>\n",
       "    <tr>\n",
       "      <th>Morningside Heights</th>\n",
       "      <td>47</td>\n",
       "      <td>2813</td>\n",
       "      <td>2253</td>\n",
       "      <td>2661</td>\n",
       "      <td>899</td>\n",
       "      <td>5</td>\n",
       "      <td>16</td>\n",
       "      <td>3863</td>\n",
       "      <td>19</td>\n",
       "      <td>16</td>\n",
       "    </tr>\n",
       "    <tr>\n",
       "      <th>Park Slope</th>\n",
       "      <td>57</td>\n",
       "      <td>13</td>\n",
       "      <td>6</td>\n",
       "      <td>9</td>\n",
       "      <td>29</td>\n",
       "      <td>11</td>\n",
       "      <td>21</td>\n",
       "      <td>15</td>\n",
       "      <td>8192</td>\n",
       "      <td>29</td>\n",
       "    </tr>\n",
       "    <tr>\n",
       "      <th>Williamsburg (North Side)</th>\n",
       "      <td>395</td>\n",
       "      <td>59</td>\n",
       "      <td>51</td>\n",
       "      <td>43</td>\n",
       "      <td>53</td>\n",
       "      <td>94</td>\n",
       "      <td>184</td>\n",
       "      <td>27</td>\n",
       "      <td>584</td>\n",
       "      <td>133</td>\n",
       "    </tr>\n",
       "  </tbody>\n",
       "</table>\n",
       "</div>"
      ],
      "text/plain": [
       "DO_Zone                    Astoria  Central Harlem  Central Harlem North  \\\n",
       "PU_Zone                                                                    \n",
       "Astoria                      13360              48                    47   \n",
       "Central Harlem                  67            6443                  9453   \n",
       "Central Harlem North            23            5478                  6887   \n",
       "East Harlem North              154            6008                  4698   \n",
       "East Harlem South              128            3558                  2246   \n",
       "Elmhurst                      1201              10                    18   \n",
       "Fort Greene                     43              10                    11   \n",
       "Morningside Heights             47            2813                  2253   \n",
       "Park Slope                      57              13                     6   \n",
       "Williamsburg (North Side)      395              59                    51   \n",
       "\n",
       "DO_Zone                    East Harlem North  East Harlem South  Elmhurst  \\\n",
       "PU_Zone                                                                     \n",
       "Astoria                                   90                122       966   \n",
       "Central Harlem                          6950               2930        11   \n",
       "Central Harlem North                    3211               1161         4   \n",
       "East Harlem North                       6068               7364        25   \n",
       "East Harlem South                       9741               5358        56   \n",
       "Elmhurst                                  32                 69      7065   \n",
       "Fort Greene                                9                 15        24   \n",
       "Morningside Heights                     2661                899         5   \n",
       "Park Slope                                 9                 29        11   \n",
       "Williamsburg (North Side)                 43                 53        94   \n",
       "\n",
       "DO_Zone                    Jackson Heights  Morningside Heights  Park Slope  \\\n",
       "PU_Zone                                                                       \n",
       "Astoria                               2930                   31          32   \n",
       "Central Harlem                          29                 3391          14   \n",
       "Central Harlem North                    10                 1428           5   \n",
       "East Harlem North                       47                 3056          16   \n",
       "East Harlem South                       85                 1322          24   \n",
       "Elmhurst                              7508                   11          11   \n",
       "Fort Greene                             26                   13        1652   \n",
       "Morningside Heights                     16                 3863          19   \n",
       "Park Slope                              21                   15        8192   \n",
       "Williamsburg (North Side)              184                   27         584   \n",
       "\n",
       "DO_Zone                    Steinway  \n",
       "PU_Zone                              \n",
       "Astoria                        6571  \n",
       "Central Harlem                   58  \n",
       "Central Harlem North             19  \n",
       "East Harlem North               111  \n",
       "East Harlem South                79  \n",
       "Elmhurst                        525  \n",
       "Fort Greene                      23  \n",
       "Morningside Heights              16  \n",
       "Park Slope                       29  \n",
       "Williamsburg (North Side)       133  "
      ]
     },
     "execution_count": 56,
     "metadata": {},
     "output_type": "execute_result"
    }
   ],
   "source": [
    "heat_map2"
   ]
  },
  {
   "cell_type": "markdown",
   "metadata": {},
   "source": [
    "The diagonal in heatmap is brighter and squares between different parts of Harlem is also brighter, which means that routes between the same zone or near zones are more frequent and people are willing to use taxi in short distance."
   ]
  },
  {
   "cell_type": "code",
   "execution_count": 54,
   "metadata": {},
   "outputs": [
    {
     "name": "stdout",
     "output_type": "stream",
     "text": [
      "Requirement already satisfied: seaborn in ./.local/lib/python3.5/site-packages\r\n"
     ]
    }
   ],
   "source": [
    "!pip install seaborn --user"
   ]
  },
  {
   "cell_type": "code",
   "execution_count": 57,
   "metadata": {},
   "outputs": [
    {
     "data": {
      "text/plain": [
       "<matplotlib.axes._subplots.AxesSubplot at 0x7f4b2e8990b8>"
      ]
     },
     "execution_count": 57,
     "metadata": {},
     "output_type": "execute_result"
    },
    {
     "data": {
      "image/png": "[encoded data removed]",
      "text/plain": [
       "<matplotlib.figure.Figure at 0x7f4b2ed388d0>"
      ]
     },
     "metadata": {},
     "output_type": "display_data"
    }
   ],
   "source": [
    "import seaborn as sns\n",
    "sns.heatmap(heat_map2)"
   ]
  },
  {
   "cell_type": "markdown",
   "metadata": {
    "collapsed": true
   },
   "source": [
    "### Question 3: Top 10 common route "
   ]
  },
  {
   "cell_type": "markdown",
   "metadata": {},
   "source": [
    "As what we analyze before, citizens prefer to take taxi when their starting points are near to their destinations. "
   ]
  },
  {
   "cell_type": "code",
   "execution_count": 58,
   "metadata": {
    "scrolled": true
   },
   "outputs": [
    {
     "name": "stdout",
     "output_type": "stream",
     "text": [
      "+------------+------------+----------+-----------------+----------+--------------------+-----------+----+-----+\n",
      "|PULocationID|DOLocationID|PU_Borough|PU_Zone          |DO_Borough|DO_Zone             |route_count|trip|time |\n",
      "+------------+------------+----------+-----------------+----------+--------------------+-----------+----+-----+\n",
      "|7           |7           |Queens    |Astoria          |Queens    |Astoria             |13360      |0.85|13.79|\n",
      "|75          |74          |Manhattan |East Harlem South|Manhattan |East Harlem North   |9741       |1.13|10.39|\n",
      "|41          |42          |Manhattan |Central Harlem   |Manhattan |Central Harlem North|9453       |1.11|12.8 |\n",
      "|181         |181         |Brooklyn  |Park Slope       |Brooklyn  |Park Slope          |8192       |0.92|11.49|\n",
      "|129         |129         |Queens    |Jackson Heights  |Queens    |Jackson Heights     |7943       |1.05|13.28|\n",
      "|82          |129         |Queens    |Elmhurst         |Queens    |Jackson Heights     |7508       |1.33|17.86|\n",
      "|74          |75          |Manhattan |East Harlem North|Manhattan |East Harlem South   |7364       |1.18|12.34|\n",
      "|95          |95          |Queens    |Forest Hills     |Queens    |Forest Hills        |7079       |1.03|17.82|\n",
      "|82          |82          |Queens    |Elmhurst         |Queens    |Elmhurst            |7065       |1.08|14.38|\n",
      "|41          |74          |Manhattan |Central Harlem   |Manhattan |East Harlem North   |6950       |1.01|13.35|\n",
      "+------------+------------+----------+-----------------+----------+--------------------+-----------+----+-----+\n",
      "\n"
     ]
    }
   ],
   "source": [
    "sqlc.sql('''\n",
    "SELECT PULocationID, DOLocationID, A.Borough AS PU_Borough, A.Zone AS PU_Zone, B.Borough AS DO_Borough, B.Zone AS DO_Zone, \n",
    "       count(1) AS route_count, round(avg(trip_distance), 2) AS trip, \n",
    "       round((avg(lpep_dropoff_datetime) - avg(lpep_pickup_datetime))/60, 2) AS time\n",
    "FROM green\n",
    "JOIN location AS A\n",
    "ON green.PULocationID = A.LocationID\n",
    "JOIN location AS B\n",
    "ON green.DOLocationID = B.LocationID\n",
    "WHERE valid_data = 1\n",
    "GROUP BY PULocationID, DOLocationID, PU_Borough, PU_Zone, DO_Borough, DO_Zone\n",
    "ORDER BY route_count DESC\n",
    "LIMIT 10\n",
    "''').show(10, False)"
   ]
  },
  {
   "cell_type": "markdown",
   "metadata": {},
   "source": [
    "### Question 4: Distance & time hists"
   ]
  },
  {
   "cell_type": "markdown",
   "metadata": {},
   "source": [
    "#### Distance"
   ]
  },
  {
   "cell_type": "code",
   "execution_count": 59,
   "metadata": {
    "collapsed": true
   },
   "outputs": [],
   "source": [
    "distance = sqlc.sql('''\n",
    "SELECT trip_distance\n",
    "FROM green\n",
    "WHERE valid_data = 1\n",
    "''')"
   ]
  },
  {
   "cell_type": "markdown",
   "metadata": {},
   "source": [
    "The histogram below shows that distance of most rides is below 3 miles and the red dashed line indicates that average distance is about 2.5 miles, which verifies our expectation again."
   ]
  },
  {
   "cell_type": "code",
   "execution_count": 60,
   "metadata": {
    "collapsed": true
   },
   "outputs": [],
   "source": [
    "distance = toPandas(distance)"
   ]
  },
  {
   "cell_type": "code",
   "execution_count": 61,
   "metadata": {
    "scrolled": true
   },
   "outputs": [
    {
     "data": {
      "image/png": "[encoded data removed]",
      "text/plain": [
       "<matplotlib.figure.Figure at 0x7f4b2e7e2278>"
      ]
     },
     "metadata": {},
     "output_type": "display_data"
    }
   ],
   "source": [
    "x = distance['trip_distance']\n",
    "plt.hist(x, 200, color = 'lightblue', edgecolor='black')\n",
    "plt.axis([0,20,0,300000])\n",
    "plt.axvline(x.mean(),color = 'r', linestyle = 'dashed')\n",
    "plt.show()"
   ]
  },
  {
   "cell_type": "markdown",
   "metadata": {},
   "source": [
    "####  Time - hist"
   ]
  },
  {
   "cell_type": "markdown",
   "metadata": {},
   "source": [
    "Due to the low distance of most trips, the time of most trips is lower than 20 minutes and average time of trips is about 20 minutes. We can conclude that most citizens are more willing to take taxi in trips of short distance."
   ]
  },
  {
   "cell_type": "code",
   "execution_count": 62,
   "metadata": {
    "collapsed": true,
    "scrolled": true
   },
   "outputs": [],
   "source": [
    "trip_time = sqlc.sql('''\n",
    "SELECT (cast(lpep_dropoff_datetime as double)  - cast(lpep_pickup_datetime as double)) /60 AS time_minutes\n",
    "FROM green\n",
    "WHERE valid_data = 1\n",
    "''')"
   ]
  },
  {
   "cell_type": "code",
   "execution_count": 63,
   "metadata": {
    "collapsed": true
   },
   "outputs": [],
   "source": [
    "trip_time = toPandas(trip_time)"
   ]
  },
  {
   "cell_type": "code",
   "execution_count": 64,
   "metadata": {},
   "outputs": [
    {
     "data": {
      "image/png": "[encoded data removed]",
      "text/plain": [
       "<matplotlib.figure.Figure at 0x7f4b2e70a630>"
      ]
     },
     "metadata": {},
     "output_type": "display_data"
    }
   ],
   "source": [
    "x = trip_time['time_minutes']\n",
    "plt.hist(x, 400, color = 'lightblue', edgecolor='black')\n",
    "plt.axis([0,80,0,250000])\n",
    "plt.axvline(x.mean(),color = 'r', linestyle = 'dashed')\n",
    "plt.show()"
   ]
  },
  {
   "cell_type": "markdown",
   "metadata": {},
   "source": [
    "### Question 5: Total amount histogram"
   ]
  },
  {
   "cell_type": "code",
   "execution_count": 65,
   "metadata": {
    "collapsed": true,
    "scrolled": true
   },
   "outputs": [],
   "source": [
    "total_amount = sqlc.sql('''\n",
    "SELECT total_amount/passenger_count AS amount_per_person\n",
    "FROM green\n",
    "WHERE valid_data = 1\n",
    "AND passenger_count != 'NA'\n",
    "''')"
   ]
  },
  {
   "cell_type": "markdown",
   "metadata": {},
   "source": [
    "Because the distance is an important factor in total amount of fares, amounts of most trips are lower than 15 dollars. The average fare is about 13 dollars."
   ]
  },
  {
   "cell_type": "code",
   "execution_count": 66,
   "metadata": {
    "collapsed": true
   },
   "outputs": [],
   "source": [
    "total_amount = toPandas(total_amount)"
   ]
  },
  {
   "cell_type": "code",
   "execution_count": 67,
   "metadata": {},
   "outputs": [
    {
     "data": {
      "image/png": "[encoded data removed]",
      "text/plain": [
       "<matplotlib.figure.Figure at 0x7f4b2e48ce80>"
      ]
     },
     "metadata": {},
     "output_type": "display_data"
    }
   ],
   "source": [
    "x = total_amount['amount_per_person']\n",
    "plt.hist(x, 300, color = 'lightblue', edgecolor='black')\n",
    "plt.axis([0,80,0,200000])\n",
    "plt.axvline(x.mean(),color = 'r', linestyle = 'dashed')\n",
    "plt.show()"
   ]
  },
  {
   "cell_type": "markdown",
   "metadata": {},
   "source": [
    "### Question 6:  Check the relationship of speed and hours"
   ]
  },
  {
   "cell_type": "code",
   "execution_count": 68,
   "metadata": {
    "collapsed": true
   },
   "outputs": [],
   "source": [
    "rush_hour = sqlc.sql('''\n",
    "SELECT ROUND(AVG(trip_distance / ((cast(lpep_dropoff_datetime as double) - cast(lpep_pickup_datetime as double))/3600)),2) AS speed,\n",
    "       hour(lpep_pickup_datetime) AS PU_hour\n",
    "FROM green\n",
    "WHERE valid_data = 1\n",
    "GROUP BY PU_hour\n",
    "ORDER BY PU_hour\n",
    "''')"
   ]
  },
  {
   "cell_type": "markdown",
   "metadata": {},
   "source": [
    "The line chart shows that the average speed changes greatly with time and it becomes the lowest in rush hours. In 4 p.m., it is only about 10 miles per hour. So the rush hours have great influence in speed of traffic."
   ]
  },
  {
   "cell_type": "code",
   "execution_count": 69,
   "metadata": {
    "collapsed": true
   },
   "outputs": [],
   "source": [
    "rush_hour =toPandas(rush_hour)"
   ]
  },
  {
   "cell_type": "code",
   "execution_count": 70,
   "metadata": {
    "scrolled": true
   },
   "outputs": [
    {
     "data": {
      "text/plain": [
       "([<matplotlib.axis.XTick at 0x7f4b2dc03860>,\n",
       "  <matplotlib.axis.XTick at 0x7f4b2e488828>,\n",
       "  <matplotlib.axis.XTick at 0x7f4b2e480748>,\n",
       "  <matplotlib.axis.XTick at 0x7f4b2dbd9358>,\n",
       "  <matplotlib.axis.XTick at 0x7f4b2dbd9eb8>,\n",
       "  <matplotlib.axis.XTick at 0x7f4b2dbd6668>,\n",
       "  <matplotlib.axis.XTick at 0x7f4b2e403470>,\n",
       "  <matplotlib.axis.XTick at 0x7f4b2dbe3b00>,\n",
       "  <matplotlib.axis.XTick at 0x7f4b2dbfb668>,\n",
       "  <matplotlib.axis.XTick at 0x7f4b2dbf6198>,\n",
       "  <matplotlib.axis.XTick at 0x7f4b2dbf1898>,\n",
       "  <matplotlib.axis.XTick at 0x7f4b2dbe3e48>,\n",
       "  <matplotlib.axis.XTick at 0x7f4b2dbe1278>,\n",
       "  <matplotlib.axis.XTick at 0x7f4b2dc065c0>,\n",
       "  <matplotlib.axis.XTick at 0x7f4b2dc01748>,\n",
       "  <matplotlib.axis.XTick at 0x7f4b2dc74ac8>,\n",
       "  <matplotlib.axis.XTick at 0x7f4b2dca4c88>,\n",
       "  <matplotlib.axis.XTick at 0x7f4b2dc562e8>,\n",
       "  <matplotlib.axis.XTick at 0x7f4b2def0cf8>,\n",
       "  <matplotlib.axis.XTick at 0x7f4b2def0390>,\n",
       "  <matplotlib.axis.XTick at 0x7f4b2dc43668>,\n",
       "  <matplotlib.axis.XTick at 0x7f4b2dcb9438>,\n",
       "  <matplotlib.axis.XTick at 0x7f4b2dc4cb70>,\n",
       "  <matplotlib.axis.XTick at 0x7f4b2dc47940>],\n",
       " <a list of 24 Text xticklabel objects>)"
      ]
     },
     "execution_count": 70,
     "metadata": {},
     "output_type": "execute_result"
    },
    {
     "data": {
      "text/plain": [
       "<matplotlib.figure.Figure at 0x7f4b2dc43390>"
      ]
     },
     "metadata": {},
     "output_type": "display_data"
    },
    {
     "data": {
      "image/png": "[encoded data removed]",
      "text/plain": [
       "<matplotlib.figure.Figure at 0x7f4b2e6d5668>"
      ]
     },
     "metadata": {},
     "output_type": "display_data"
    }
   ],
   "source": [
    "plt.clf()\n",
    "rush_hour.plot(x = 'PU_hour', y = 'speed', marker = 'o')\n",
    "plt.xticks(np.arange(len(rush_hour)))"
   ]
  },
  {
   "cell_type": "markdown",
   "metadata": {},
   "source": [
    "### Part 4: Weather"
   ]
  },
  {
   "cell_type": "markdown",
   "metadata": {},
   "source": [
    "In the bonus part, data of weather of New York in June is brought in, which helps us analyze the relationship between weather and taxi rides."
   ]
  },
  {
   "cell_type": "code",
   "execution_count": 71,
   "metadata": {},
   "outputs": [
    {
     "name": "stdout",
     "output_type": "stream",
     "text": [
      "--2017-12-07 23:49:36--  https://russellxing.github.io/Guangyu_Xing/Weather_data_newyork_NY_USA_2017_06.csv\r\n",
      "Resolving russellxing.github.io (russellxing.github.io)... 151.101.33.147\r\n",
      "Connecting to russellxing.github.io (russellxing.github.io)|151.101.33.147|:443... connected.\r\n",
      "HTTP request sent, awaiting response... 200 OK\r\n",
      "Length: 2698 (2.6K) [text/csv]\r\n",
      "Saving to: ‘Weather_data_newyork_NY_USA_2017_06.csv’\r\n",
      "\r\n",
      "\r",
      "          Weather_d   0%[                    ]       0  --.-KB/s               \r",
      "Weather_data_newyor 100%[===================>]   2.63K  --.-KB/s    in 0s      \r\n",
      "\r\n",
      "2017-12-07 23:49:36 (61.2 MB/s) - ‘Weather_data_newyork_NY_USA_2017_06.csv’ saved [2698/2698]\r\n",
      "\r\n"
     ]
    }
   ],
   "source": [
    "!wget https://russellxing.github.io/Guangyu_Xing/Weather_data_newyork_NY_USA_2017_06.csv"
   ]
  },
  {
   "cell_type": "markdown",
   "metadata": {},
   "source": [
    "There are datas of temperature, dew points, humidity, sea level, visibility, wind, precipation and events and we will use spark spl to load them."
   ]
  },
  {
   "cell_type": "code",
   "execution_count": 72,
   "metadata": {
    "scrolled": true
   },
   "outputs": [
    {
     "name": "stdout",
     "output_type": "stream",
     "text": [
      "|-------------+-----------+----------+----------+----------+---------+---------+---------------+--------------+--------------+----------------+---------------+---------------+-----------------+----------------+----------------+----------+----------+-----------+--------------+---------|\r\n",
      "|  Day        | Temp_high | Temp_avg | Temp_low | Dew_high | Dew_avg | Dew_low | Humidity_high | Humidity_avg | Humidity_low | Sea_Level_high | Sea_Level_avg | Sea_Level_low | Visibility_high | Visibility_avg | Visibility_low | Wind_avg | Wind_low | Wind_high | Precip. (in) | Events  |\r\n",
      "|-------------+-----------+----------+----------+----------+---------+---------+---------------+--------------+--------------+----------------+---------------+---------------+-----------------+----------------+----------------+----------+----------+-----------+--------------+---------|\r\n",
      "|  2017-06-01 | 79        | 69       | 59       | 61       | 52      | 44      | 93            | 63           | 32           | 29.97          | 29.92         | 29.87         | 10              | 10             | 7              | 13       | 4        | 22        | 0            | Fine    |\r\n",
      "|  2017-06-02 | 76        | 67       | 57       | 47       | 42      | 32      | 62            | 42           | 22           | 29.99          | 29.95         | 29.88         | 10              | 10             | 10             | 16       | 4        | 24        | 0.01         | Fine    |\r\n",
      "|  2017-06-03 | 73        | 64       | 55       | 50       | 41      | 37      | 67            | 48           | 29           | 30.01          | 29.96         | 29.93         | 10              | 10             | 9              | 13       | 4        | 24        | 0.01         | Rain    |\r\n",
      "|  2017-06-04 | 70        | 63       | 56       | 57       | 48      | 39      | 84            | 62           | 40           | 30.03          | 29.95         | 29.83         | 10              | 10             | 9              | 8        | 2        | 14        | 0.09         | Rain    |\r\n",
      "|  2017-06-05 | 67        | 63       | 58       | 61       | 59      | 57      | 100           | 91           | 81           | 29.83          | 29.77         | 29.73         | 8               | 4              | 1              | 16       | 5        | 22        | 0.02         | Rain    |\r\n",
      "|  2017-06-06 | 58        | 55       | 52       | 57       | 52      | 45      | 100           | 89           | 77           | 29.95          | 29.81         | 29.7          | 10              | 8              | 2              | 13       | 7        | 19        | 0.06         | Rain    |\r\n",
      "|  2017-06-07 | 67        | 59       | 51       | 50       | 47      | 45      | 77            | 65           | 52           | 30.02          | 29.98         | 29.93         | 10              | 10             | 10             | 12       | 3        | 17        | 0            | Fine    |\r\n",
      "|  2017-06-08 | 69        | 62       | 55       | 57       | 48      | 38      | 83            | 63           | 42           | 30.02          | 29.96         | 29.82         | 10              | 10             | 10             | 9        | 4        | 15        | 0            | Fine    |\r\n",
      "|  2017-06-09 | 80        | 67       | 53       | 51       | 48      | 45      | 83            | 57           | 30           | 29.88          | 29.77         | 29.74         | 10              | 10             | 10             | 13       | 5        | 21        | 0            | Fine    |\r\n",
      "|-------------+-----------+----------+----------+----------+---------+---------+---------------+--------------+--------------+----------------+---------------+---------------+-----------------+----------------+----------------+----------+----------+-----------+--------------+---------|\r\n"
     ]
    }
   ],
   "source": [
    "!head Weather_data_newyork_NY_USA_2017_06.csv | csvlook"
   ]
  },
  {
   "cell_type": "code",
   "execution_count": 73,
   "metadata": {},
   "outputs": [
    {
     "data": {
      "text/plain": [
       "30"
      ]
     },
     "execution_count": 73,
     "metadata": {},
     "output_type": "execute_result"
    }
   ],
   "source": [
    "weather = sqlc.read.format(\"csv\").option(\"header\", \"true\").load(\"Weather_data_newyork_NY_USA_2017_06.csv\")\n",
    "weather.count()"
   ]
  },
  {
   "cell_type": "code",
   "execution_count": 74,
   "metadata": {
    "collapsed": true
   },
   "outputs": [],
   "source": [
    "weather.createOrReplaceTempView(\"weather\")"
   ]
  },
  {
   "cell_type": "code",
   "execution_count": 75,
   "metadata": {
    "scrolled": true
   },
   "outputs": [
    {
     "name": "stdout",
     "output_type": "stream",
     "text": [
      "+----------+---------+--------+--------+--------+-------+-------+-------------+------------+------------+--------------+-------------+-------------+---------------+--------------+--------------+--------+--------+---------+------------+----------+\n",
      "|       Day|Temp_high|Temp_avg|Temp_low|Dew_high|Dew_avg|Dew_low|Humidity_high|Humidity_avg|Humidity_low|Sea_Level_high|Sea_Level_avg|Sea_Level_low|Visibility_high|Visibility_avg|Visibility_low|Wind_avg|Wind_low|Wind_high|Precip. (in)|    Events|\n",
      "+----------+---------+--------+--------+--------+-------+-------+-------------+------------+------------+--------------+-------------+-------------+---------------+--------------+--------------+--------+--------+---------+------------+----------+\n",
      "|2017-06-01|       79|      69|      59|      61|     52|     44|           93|          63|          32|         29.97|        29.92|        29.87|             10|            10|             7|      13|       4|       22|           0|      Fine|\n",
      "|2017-06-02|       76|      67|      57|      47|     42|     32|           62|          42|          22|         29.99|        29.95|        29.88|             10|            10|            10|      16|       4|       24|        0.01|      Fine|\n",
      "|2017-06-03|       73|      64|      55|      50|     41|     37|           67|          48|          29|         30.01|        29.96|        29.93|             10|            10|             9|      13|       4|       24|        0.01|      Rain|\n",
      "|2017-06-04|       70|      63|      56|      57|     48|     39|           84|          62|          40|         30.03|        29.95|        29.83|             10|            10|             9|       8|       2|       14|        0.09|      Rain|\n",
      "|2017-06-05|       67|      63|      58|      61|     59|     57|          100|          91|          81|         29.83|        29.77|        29.73|              8|             4|             1|      16|       5|       22|        0.02|      Rain|\n",
      "|2017-06-06|       58|      55|      52|      57|     52|     45|          100|          89|          77|         29.95|        29.81|         29.7|             10|             8|             2|      13|       7|       19|        0.06|      Rain|\n",
      "|2017-06-07|       67|      59|      51|      50|     47|     45|           77|          65|          52|         30.02|        29.98|        29.93|             10|            10|            10|      12|       3|       17|           0|      Fine|\n",
      "|2017-06-08|       69|      62|      55|      57|     48|     38|           83|          63|          42|         30.02|        29.96|        29.82|             10|            10|            10|       9|       4|       15|           0|      Fine|\n",
      "|2017-06-09|       80|      67|      53|      51|     48|     45|           83|          57|          30|         29.88|        29.77|        29.74|             10|            10|            10|      13|       5|       21|           0|      Fine|\n",
      "|2017-06-10|       85|      76|      66|      58|     54|     50|           58|          48|          37|         30.02|        29.96|        29.89|             10|            10|            10|      14|       4|       23|           0|      Fine|\n",
      "|2017-06-11|       90|      81|      72|      62|     60|     57|           68|          52|          36|         30.07|        30.03|        29.98|             10|            10|             9|      14|       5|       26|           0|      Fine|\n",
      "|2017-06-12|       93|      85|      76|      63|     61|     58|           64|          49|          34|         30.05|        29.98|        29.91|             10|            10|            10|      12|       4|       18|           0|      Fine|\n",
      "|2017-06-13|       94|      86|      77|      68|     64|     60|           62|          48|          33|         29.95|        29.89|        29.81|             10|            10|             9|      10|       3|       20|           0|      Fine|\n",
      "|2017-06-14|       84|      77|      69|      69|     62|     47|           93|          67|          41|         30.04|        29.98|        29.88|             10|             8|             0|      13|       5|       19|        0.29|Fog , Rain|\n",
      "|2017-06-15|       76|      70|      64|      58|     53|     47|           78|          60|          41|         30.07|        30.04|        30.02|             10|            10|            10|      12|       4|       19|           0|      Fine|\n",
      "|2017-06-16|       68|      66|      63|      63|     61|     56|           87|          80|          73|         30.04|        29.98|        29.93|             10|             9|             6|      10|       5|       17|           0|      Fine|\n",
      "|2017-06-17|       74|      70|      66|      70|     67|     63|           97|          88|          79|         29.98|        29.95|        29.91|              9|             5|             0|       7|       2|       11|        1.39|Fog , Rain|\n",
      "|2017-06-18|       85|      78|      70|      74|     71|     68|          100|          85|          69|         29.95|        29.88|        29.77|             10|             6|             2|      10|       4|       21|           0|      Fine|\n",
      "|2017-06-19|       88|      79|      70|      75|     71|     69|          100|          80|          59|         29.91|        29.83|        29.75|             10|             6|             0|      13|       4|       34|        1.35|Fog , Rain|\n",
      "|2017-06-20|       83|      77|      71|      70|     62|     51|           93|          64|          34|         29.95|        29.89|        29.83|             10|             8|             3|      15|       5|       24|        0.03|      Rain|\n",
      "+----------+---------+--------+--------+--------+-------+-------+-------------+------------+------------+--------------+-------------+-------------+---------------+--------------+--------------+--------+--------+---------+------------+----------+\n",
      "only showing top 20 rows\n",
      "\n"
     ]
    }
   ],
   "source": [
    "sqlc.sql('''\n",
    "SELECT *\n",
    "FROM weather\n",
    "''').show()"
   ]
  },
  {
   "cell_type": "code",
   "execution_count": 76,
   "metadata": {
    "collapsed": true
   },
   "outputs": [],
   "source": [
    "Temp = sqlc.sql('''\n",
    "SELECT weather.Day, weather.Temp_avg, count(1) AS rides_count\n",
    "FROM green\n",
    "JOIN weather\n",
    "ON date(green.lpep_pickup_datetime) = weather.Day\n",
    "WHERE valid_data = 1\n",
    "GROUP BY weather.Day, weather.Temp_avg\n",
    "ORDER BY weather.Temp_avg\n",
    "''')"
   ]
  },
  {
   "cell_type": "markdown",
   "metadata": {},
   "source": [
    "First of all, we aim to explore the relationship between temperature and count of rides. With the change of temperature, the count of rides also fluctuates greatly and there is no significant relationship between temperature and count of rides. "
   ]
  },
  {
   "cell_type": "code",
   "execution_count": 77,
   "metadata": {
    "collapsed": true
   },
   "outputs": [],
   "source": [
    "Temp_pd = toPandas(Temp)"
   ]
  },
  {
   "cell_type": "code",
   "execution_count": 78,
   "metadata": {},
   "outputs": [
    {
     "data": {
      "text/plain": [
       "<matplotlib.axes._subplots.AxesSubplot at 0x7f4b2e6d5b38>"
      ]
     },
     "execution_count": 78,
     "metadata": {},
     "output_type": "execute_result"
    },
    {
     "data": {
      "image/png": "[encoded data removed]",
      "text/plain": [
       "<matplotlib.figure.Figure at 0x7f4b2e6c0fd0>"
      ]
     },
     "metadata": {},
     "output_type": "display_data"
    }
   ],
   "source": [
    "Temp_pd.plot(x = 'Temp_avg', y = 'rides_count')"
   ]
  },
  {
   "cell_type": "code",
   "execution_count": 79,
   "metadata": {
    "collapsed": true
   },
   "outputs": [],
   "source": [
    "Event = sqlc.sql('''\n",
    "SELECT a.Events, avg(rides_count) as rides_count\n",
    "FROM\n",
    "(\n",
    "SELECT weather.day, weather.Events, count(1) as rides_count\n",
    "FROM green\n",
    "JOIN weather\n",
    "ON date(green.lpep_pickup_datetime) = weather.Day\n",
    "WHERE valid_data = 1\n",
    "GROUP BY weather.day, weather.Events\n",
    ") a\n",
    "GROUP BY a.Events\n",
    "''')"
   ]
  },
  {
   "cell_type": "markdown",
   "metadata": {},
   "source": [
    "In the rainy weather, the amount of rides does not increase significantly and is close to the one in fine weather. However, in the foggy and rainy weather, the amount of rides increase by about 10 percent, which indicates that the weather of fog plays an important role in increasing rides."
   ]
  },
  {
   "cell_type": "code",
   "execution_count": 56,
   "metadata": {},
   "outputs": [
    {
     "data": {
      "text/plain": [
       "(array([0, 1, 2]), <a list of 3 Text xticklabel objects>)"
      ]
     },
     "execution_count": 56,
     "metadata": {},
     "output_type": "execute_result"
    },
    {
     "data": {
      "image/png": "[encoded data removed]",
      "text/plain": [
       "<matplotlib.figure.Figure at 0x7f79b71056d8>"
      ]
     },
     "metadata": {},
     "output_type": "display_data"
    }
   ],
   "source": [
    "Event_pd = toPandas(Event)\n",
    "Event_pd.plot(x = 'Events', y = 'rides_count',kind = 'bar')\n",
    "plt.ylim(25000,35000)\n",
    "plt.xticks(rotation = 0)"
   ]
  },
  {
   "cell_type": "code",
   "execution_count": 22,
   "metadata": {
    "collapsed": true
   },
   "outputs": [],
   "source": [
    "Precip = sqlc.sql('''\n",
    "SELECT weather.Day, weather.`Precip. (in)` as precip, count(1) AS rides_count\n",
    "FROM green\n",
    "JOIN weather\n",
    "ON date(green.lpep_pickup_datetime) = weather.Day\n",
    "WHERE valid_data = 1\n",
    "GROUP BY weather.Day, weather.`Precip. (in)`\n",
    "ORDER BY precip\n",
    "''')"
   ]
  },
  {
   "cell_type": "markdown",
   "metadata": {},
   "source": [
    "Though the precipation changes, numbers of rides does not change greatly. Like the temperature, the precipation can not affect people's willing of traffic method greatly. "
   ]
  },
  {
   "cell_type": "code",
   "execution_count": 28,
   "metadata": {},
   "outputs": [
    {
     "data": {
      "image/png": "[encoded data removed]",
      "text/plain": [
       "<matplotlib.figure.Figure at 0x7f5df252e588>"
      ]
     },
     "metadata": {},
     "output_type": "display_data"
    }
   ],
   "source": [
    "Precip_pd = toPandas(Precip)\n",
    "plt.scatter(Precip_pd['precip'],Precip_pd['rides_count'])\n",
    "plt.show()"
   ]
  },
  {
   "cell_type": "code",
   "execution_count": 65,
   "metadata": {
    "collapsed": true
   },
   "outputs": [],
   "source": [
    "Humidity = sqlc.sql('''\n",
    "SELECT weather.Day, weather.Humidity_avg, count(1) AS rides_count\n",
    "FROM green\n",
    "JOIN weather\n",
    "ON date(green.lpep_pickup_datetime) = weather.Day\n",
    "WHERE valid_data = 1\n",
    "GROUP BY weather.Day, weather.Humidity_avg\n",
    "ORDER BY weather.Humidity_avg\n",
    "''')"
   ]
  },
  {
   "cell_type": "markdown",
   "metadata": {},
   "source": [
    "There is no great change in counts of rides when humidity changes, so humidity is not a vital factor in encouraging people to take taxi."
   ]
  },
  {
   "cell_type": "code",
   "execution_count": 67,
   "metadata": {
    "scrolled": true
   },
   "outputs": [
    {
     "data": {
      "text/plain": [
       "<matplotlib.axes._subplots.AxesSubplot at 0x7f40bb5b6780>"
      ]
     },
     "execution_count": 67,
     "metadata": {},
     "output_type": "execute_result"
    },
    {
     "data": {
      "image/png": "[encoded data removed]",
      "text/plain": [
       "<matplotlib.figure.Figure at 0x7f40bb5bfcf8>"
      ]
     },
     "metadata": {},
     "output_type": "display_data"
    }
   ],
   "source": [
    "Humidity_pd = toPandas(Humidity)\n",
    "Humidity_pd.plot(x = 'Humidity_avg', y = 'rides_count')"
   ]
  },
  {
   "cell_type": "code",
   "execution_count": 24,
   "metadata": {
    "collapsed": true
   },
   "outputs": [],
   "source": [
    "Wind = sqlc.sql('''\n",
    "SELECT weather.Day, weather.Wind_avg, count(1) AS rides_count\n",
    "FROM green\n",
    "JOIN weather\n",
    "ON date(green.lpep_pickup_datetime) = weather.Day\n",
    "WHERE valid_data = 1\n",
    "GROUP BY weather.Day, weather.Wind_avg\n",
    "ORDER BY weather.Wind_avg\n",
    "''')"
   ]
  },
  {
   "cell_type": "markdown",
   "metadata": {},
   "source": [
    "Contrary to our expectations, higher speed of wind does not always lead to bigger number of rides which has great fluctuation. "
   ]
  },
  {
   "cell_type": "code",
   "execution_count": 29,
   "metadata": {
    "scrolled": true
   },
   "outputs": [
    {
     "data": {
      "text/plain": [
       "<matplotlib.axes._subplots.AxesSubplot at 0x7f906e323a58>"
      ]
     },
     "execution_count": 29,
     "metadata": {},
     "output_type": "execute_result"
    },
    {
     "data": {
      "image/png": "[encoded data removed]",
      "text/plain": [
       "<matplotlib.figure.Figure at 0x7f906e31a0b8>"
      ]
     },
     "metadata": {},
     "output_type": "display_data"
    }
   ],
   "source": [
    "Wind_pd = toPandas(Wind)\n",
    "Wind_pd.plot(x = 'Wind_avg', y = 'rides_count')"
   ]
  }
 ],
 "metadata": {
  "kernelspec": {
   "display_name": "Python 3",
   "language": "python",
   "name": "python3"
  },
  "language_info": {
   "codemirror_mode": {
    "name": "ipython",
    "version": 3
   },
   "file_extension": ".py",
   "mimetype": "text/x-python",
   "name": "python",
   "nbconvert_exporter": "python",
   "pygments_lexer": "ipython3",
   "version": "3.6.7"
  }
 },
 "nbformat": 4,
 "nbformat_minor": 2
}
